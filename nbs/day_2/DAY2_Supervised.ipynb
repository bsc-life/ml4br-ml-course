{
 "cells": [
  {
   "cell_type": "markdown",
   "id": "2c95429db460f068",
   "metadata": {
    "id": "2c95429db460f068"
   },
   "source": [
    "# Dataset: Breast Cancer Wisconsin (Diagnostic)\n",
    "\n",
    "In this notebook, we will use the **Breast Cancer Wisconsin (Diagnostic) dataset**, contributed by the University of Wisconsin and widely cited in machine learning literature. The dataset was donated on **October 31, 1995**, and is available through the [UCI Machine Learning Repository](https://archive.ics.uci.edu/dataset/17/breast+cancer+wisconsin+diagnostic).\n",
    "\n",
    "This dataset contains **569 samples** described by **30 real-valued features** derived from **digitized images of fine needle aspirate (FNA) tests** of breast masses. These features describe characteristics of **cell nuclei** present in the images. The task is to classify tumors as **malignant (M)** or **benign (B)**.\n",
    "\n",
    "<br>\n",
    "<div align=\"center\">\n",
    "    <img src=\"attachment:cancer_cells.jpg\" width=\"300\">\n",
    "</div>\n",
    "\n",
    "<br>\n",
    "\n",
    "\n",
    "\n",
    "---\n",
    "\n",
    "## Dataset Information\n",
    "\n",
    "- **Data Type:** Tabular (numerical / real-valued)\n",
    "- **Subject Area:** Health and Medicine\n",
    "- **Associated Task:** Classification\n",
    "- **Feature Type:** Real (continuous)\n",
    "- **Number of Samples:** 569\n",
    "- **Number of Features:** 30\n",
    "- **Target Classes:**\n",
    "  - `M`: Malignant\n",
    "  - `B`: Benign\n",
    "\n",
    "\n",
    "# Python Libraries\n",
    "\n",
    "To build and evaluate Machine Learning (ML) models, we will use the `scikit-learn` or `sklearn` library (https://scikit-learn.org/stable/) for classification tasks.\n",
    "\n",
    "The Docker image running this notebook has **scikit-learn version 1.6.1** installed. The corresponding documentation can be found (https://scikit-learn.org/1.6/getting_started.html).\n",
    "\n",
    "Additionally, we will use the following libraries:\n",
    "- `pandas` and `numpy` for data handling.\n",
    "- `matplotlib` and `seaborn` for data visualization.\n",
    "\n",
    "#  Data Loading\n",
    "\n",
    "We start by importing the necessary libraries and downloading the dataset. We need to install the `ucimlrepo` package to easily download the data we need. In a jupyter cell, you can start typing an exclamation mark `!` to run shell commands. We will use the `pip` command to install the package."
   ]
  },
  {
   "cell_type": "code",
   "execution_count": null,
   "id": "334a05842affb700",
   "metadata": {
    "colab": {
     "base_uri": "https://localhost:8080/"
    },
    "executionInfo": {
     "elapsed": 12408,
     "status": "ok",
     "timestamp": 1747639735752,
     "user": {
      "displayName": "Miquel Mayor Tortosa",
      "userId": "02292380127990734589"
     },
     "user_tz": -120
    },
    "id": "334a05842affb700",
    "outputId": "2239fe47-fcc1-4214-e0a5-83c2a7c5d164"
   },
   "outputs": [
    {
     "name": "stdout",
     "output_type": "stream",
     "text": [
      "Collecting ucimlrepo\n",
      "  Downloading ucimlrepo-0.0.7-py3-none-any.whl.metadata (5.5 kB)\n",
      "Requirement already satisfied: pandas>=1.0.0 in /usr/local/lib/python3.11/dist-packages (from ucimlrepo) (2.2.2)\n",
      "Requirement already satisfied: certifi>=2020.12.5 in /usr/local/lib/python3.11/dist-packages (from ucimlrepo) (2025.4.26)\n",
      "Requirement already satisfied: numpy>=1.23.2 in /usr/local/lib/python3.11/dist-packages (from pandas>=1.0.0->ucimlrepo) (2.0.2)\n",
      "Requirement already satisfied: python-dateutil>=2.8.2 in /usr/local/lib/python3.11/dist-packages (from pandas>=1.0.0->ucimlrepo) (2.9.0.post0)\n",
      "Requirement already satisfied: pytz>=2020.1 in /usr/local/lib/python3.11/dist-packages (from pandas>=1.0.0->ucimlrepo) (2025.2)\n",
      "Requirement already satisfied: tzdata>=2022.7 in /usr/local/lib/python3.11/dist-packages (from pandas>=1.0.0->ucimlrepo) (2025.2)\n",
      "Requirement already satisfied: six>=1.5 in /usr/local/lib/python3.11/dist-packages (from python-dateutil>=2.8.2->pandas>=1.0.0->ucimlrepo) (1.17.0)\n",
      "Downloading ucimlrepo-0.0.7-py3-none-any.whl (8.0 kB)\n",
      "Installing collected packages: ucimlrepo\n",
      "Successfully installed ucimlrepo-0.0.7\n"
     ]
    }
   ],
   "source": [
    "! pip install ucimlrepo"
   ]
  },
  {
   "cell_type": "markdown",
   "id": "1ebc0f00ac6262f",
   "metadata": {
    "id": "1ebc0f00ac6262f"
   },
   "source": [
    "Once the package is installed, we can import it and use it to download the dataset. The `ucimlrepo` package provides a convenient way to access datasets from the UCI Machine Learning Repository.\n",
    "*Note: In collab, you will need to install this package whenever you start a new session.*"
   ]
  },
  {
   "cell_type": "code",
   "execution_count": null,
   "id": "259247f206d3d231",
   "metadata": {
    "colab": {
     "base_uri": "https://localhost:8080/",
     "height": 206
    },
    "executionInfo": {
     "elapsed": 258,
     "status": "ok",
     "timestamp": 1747640424029,
     "user": {
      "displayName": "Miquel Mayor Tortosa",
      "userId": "02292380127990734589"
     },
     "user_tz": -120
    },
    "id": "259247f206d3d231",
    "outputId": "08d91617-e11e-4bba-ff80-af4981a3730b"
   },
   "outputs": [
    {
     "data": {
      "application/vnd.google.colaboratory.intrinsic+json": {
       "summary": "{\n  \"name\": \"y\",\n  \"rows\": 569,\n  \"fields\": [\n    {\n      \"column\": \"Diagnosis\",\n      \"properties\": {\n        \"dtype\": \"category\",\n        \"num_unique_values\": 2,\n        \"samples\": [\n          \"B\",\n          \"M\"\n        ],\n        \"semantic_type\": \"\",\n        \"description\": \"\"\n      }\n    }\n  ]\n}",
       "type": "dataframe",
       "variable_name": "y"
      },
      "text/html": [
       "\n",
       "  <div id=\"df-38dbbee1-c4e7-4ac2-8232-00d7872ea79b\" class=\"colab-df-container\">\n",
       "    <div>\n",
       "<style scoped>\n",
       "    .dataframe tbody tr th:only-of-type {\n",
       "        vertical-align: middle;\n",
       "    }\n",
       "\n",
       "    .dataframe tbody tr th {\n",
       "        vertical-align: top;\n",
       "    }\n",
       "\n",
       "    .dataframe thead th {\n",
       "        text-align: right;\n",
       "    }\n",
       "</style>\n",
       "<table border=\"1\" class=\"dataframe\">\n",
       "  <thead>\n",
       "    <tr style=\"text-align: right;\">\n",
       "      <th></th>\n",
       "      <th>Diagnosis</th>\n",
       "    </tr>\n",
       "  </thead>\n",
       "  <tbody>\n",
       "    <tr>\n",
       "      <th>0</th>\n",
       "      <td>M</td>\n",
       "    </tr>\n",
       "    <tr>\n",
       "      <th>1</th>\n",
       "      <td>M</td>\n",
       "    </tr>\n",
       "    <tr>\n",
       "      <th>2</th>\n",
       "      <td>M</td>\n",
       "    </tr>\n",
       "    <tr>\n",
       "      <th>3</th>\n",
       "      <td>M</td>\n",
       "    </tr>\n",
       "    <tr>\n",
       "      <th>4</th>\n",
       "      <td>M</td>\n",
       "    </tr>\n",
       "  </tbody>\n",
       "</table>\n",
       "</div>\n",
       "    <div class=\"colab-df-buttons\">\n",
       "\n",
       "  <div class=\"colab-df-container\">\n",
       "    <button class=\"colab-df-convert\" onclick=\"convertToInteractive('df-38dbbee1-c4e7-4ac2-8232-00d7872ea79b')\"\n",
       "            title=\"Convert this dataframe to an interactive table.\"\n",
       "            style=\"display:none;\">\n",
       "\n",
       "  <svg xmlns=\"http://www.w3.org/2000/svg\" height=\"24px\" viewBox=\"0 -960 960 960\">\n",
       "    <path d=\"M120-120v-720h720v720H120Zm60-500h600v-160H180v160Zm220 220h160v-160H400v160Zm0 220h160v-160H400v160ZM180-400h160v-160H180v160Zm440 0h160v-160H620v160ZM180-180h160v-160H180v160Zm440 0h160v-160H620v160Z\"/>\n",
       "  </svg>\n",
       "    </button>\n",
       "\n",
       "  <style>\n",
       "    .colab-df-container {\n",
       "      display:flex;\n",
       "      gap: 12px;\n",
       "    }\n",
       "\n",
       "    .colab-df-convert {\n",
       "      background-color: #E8F0FE;\n",
       "      border: none;\n",
       "      border-radius: 50%;\n",
       "      cursor: pointer;\n",
       "      display: none;\n",
       "      fill: #1967D2;\n",
       "      height: 32px;\n",
       "      padding: 0 0 0 0;\n",
       "      width: 32px;\n",
       "    }\n",
       "\n",
       "    .colab-df-convert:hover {\n",
       "      background-color: #E2EBFA;\n",
       "      box-shadow: 0px 1px 2px rgba(60, 64, 67, 0.3), 0px 1px 3px 1px rgba(60, 64, 67, 0.15);\n",
       "      fill: #174EA6;\n",
       "    }\n",
       "\n",
       "    .colab-df-buttons div {\n",
       "      margin-bottom: 4px;\n",
       "    }\n",
       "\n",
       "    [theme=dark] .colab-df-convert {\n",
       "      background-color: #3B4455;\n",
       "      fill: #D2E3FC;\n",
       "    }\n",
       "\n",
       "    [theme=dark] .colab-df-convert:hover {\n",
       "      background-color: #434B5C;\n",
       "      box-shadow: 0px 1px 3px 1px rgba(0, 0, 0, 0.15);\n",
       "      filter: drop-shadow(0px 1px 2px rgba(0, 0, 0, 0.3));\n",
       "      fill: #FFFFFF;\n",
       "    }\n",
       "  </style>\n",
       "\n",
       "    <script>\n",
       "      const buttonEl =\n",
       "        document.querySelector('#df-38dbbee1-c4e7-4ac2-8232-00d7872ea79b button.colab-df-convert');\n",
       "      buttonEl.style.display =\n",
       "        google.colab.kernel.accessAllowed ? 'block' : 'none';\n",
       "\n",
       "      async function convertToInteractive(key) {\n",
       "        const element = document.querySelector('#df-38dbbee1-c4e7-4ac2-8232-00d7872ea79b');\n",
       "        const dataTable =\n",
       "          await google.colab.kernel.invokeFunction('convertToInteractive',\n",
       "                                                    [key], {});\n",
       "        if (!dataTable) return;\n",
       "\n",
       "        const docLinkHtml = 'Like what you see? Visit the ' +\n",
       "          '<a target=\"_blank\" href=https://colab.research.google.com/notebooks/data_table.ipynb>data table notebook</a>'\n",
       "          + ' to learn more about interactive tables.';\n",
       "        element.innerHTML = '';\n",
       "        dataTable['output_type'] = 'display_data';\n",
       "        await google.colab.output.renderOutput(dataTable, element);\n",
       "        const docLink = document.createElement('div');\n",
       "        docLink.innerHTML = docLinkHtml;\n",
       "        element.appendChild(docLink);\n",
       "      }\n",
       "    </script>\n",
       "  </div>\n",
       "\n",
       "\n",
       "    <div id=\"df-88182ed8-e18c-4f3a-836b-6b672d0254c8\">\n",
       "      <button class=\"colab-df-quickchart\" onclick=\"quickchart('df-88182ed8-e18c-4f3a-836b-6b672d0254c8')\"\n",
       "                title=\"Suggest charts\"\n",
       "                style=\"display:none;\">\n",
       "\n",
       "<svg xmlns=\"http://www.w3.org/2000/svg\" height=\"24px\"viewBox=\"0 0 24 24\"\n",
       "     width=\"24px\">\n",
       "    <g>\n",
       "        <path d=\"M19 3H5c-1.1 0-2 .9-2 2v14c0 1.1.9 2 2 2h14c1.1 0 2-.9 2-2V5c0-1.1-.9-2-2-2zM9 17H7v-7h2v7zm4 0h-2V7h2v10zm4 0h-2v-4h2v4z\"/>\n",
       "    </g>\n",
       "</svg>\n",
       "      </button>\n",
       "\n",
       "<style>\n",
       "  .colab-df-quickchart {\n",
       "      --bg-color: #E8F0FE;\n",
       "      --fill-color: #1967D2;\n",
       "      --hover-bg-color: #E2EBFA;\n",
       "      --hover-fill-color: #174EA6;\n",
       "      --disabled-fill-color: #AAA;\n",
       "      --disabled-bg-color: #DDD;\n",
       "  }\n",
       "\n",
       "  [theme=dark] .colab-df-quickchart {\n",
       "      --bg-color: #3B4455;\n",
       "      --fill-color: #D2E3FC;\n",
       "      --hover-bg-color: #434B5C;\n",
       "      --hover-fill-color: #FFFFFF;\n",
       "      --disabled-bg-color: #3B4455;\n",
       "      --disabled-fill-color: #666;\n",
       "  }\n",
       "\n",
       "  .colab-df-quickchart {\n",
       "    background-color: var(--bg-color);\n",
       "    border: none;\n",
       "    border-radius: 50%;\n",
       "    cursor: pointer;\n",
       "    display: none;\n",
       "    fill: var(--fill-color);\n",
       "    height: 32px;\n",
       "    padding: 0;\n",
       "    width: 32px;\n",
       "  }\n",
       "\n",
       "  .colab-df-quickchart:hover {\n",
       "    background-color: var(--hover-bg-color);\n",
       "    box-shadow: 0 1px 2px rgba(60, 64, 67, 0.3), 0 1px 3px 1px rgba(60, 64, 67, 0.15);\n",
       "    fill: var(--button-hover-fill-color);\n",
       "  }\n",
       "\n",
       "  .colab-df-quickchart-complete:disabled,\n",
       "  .colab-df-quickchart-complete:disabled:hover {\n",
       "    background-color: var(--disabled-bg-color);\n",
       "    fill: var(--disabled-fill-color);\n",
       "    box-shadow: none;\n",
       "  }\n",
       "\n",
       "  .colab-df-spinner {\n",
       "    border: 2px solid var(--fill-color);\n",
       "    border-color: transparent;\n",
       "    border-bottom-color: var(--fill-color);\n",
       "    animation:\n",
       "      spin 1s steps(1) infinite;\n",
       "  }\n",
       "\n",
       "  @keyframes spin {\n",
       "    0% {\n",
       "      border-color: transparent;\n",
       "      border-bottom-color: var(--fill-color);\n",
       "      border-left-color: var(--fill-color);\n",
       "    }\n",
       "    20% {\n",
       "      border-color: transparent;\n",
       "      border-left-color: var(--fill-color);\n",
       "      border-top-color: var(--fill-color);\n",
       "    }\n",
       "    30% {\n",
       "      border-color: transparent;\n",
       "      border-left-color: var(--fill-color);\n",
       "      border-top-color: var(--fill-color);\n",
       "      border-right-color: var(--fill-color);\n",
       "    }\n",
       "    40% {\n",
       "      border-color: transparent;\n",
       "      border-right-color: var(--fill-color);\n",
       "      border-top-color: var(--fill-color);\n",
       "    }\n",
       "    60% {\n",
       "      border-color: transparent;\n",
       "      border-right-color: var(--fill-color);\n",
       "    }\n",
       "    80% {\n",
       "      border-color: transparent;\n",
       "      border-right-color: var(--fill-color);\n",
       "      border-bottom-color: var(--fill-color);\n",
       "    }\n",
       "    90% {\n",
       "      border-color: transparent;\n",
       "      border-bottom-color: var(--fill-color);\n",
       "    }\n",
       "  }\n",
       "</style>\n",
       "\n",
       "      <script>\n",
       "        async function quickchart(key) {\n",
       "          const quickchartButtonEl =\n",
       "            document.querySelector('#' + key + ' button');\n",
       "          quickchartButtonEl.disabled = true;  // To prevent multiple clicks.\n",
       "          quickchartButtonEl.classList.add('colab-df-spinner');\n",
       "          try {\n",
       "            const charts = await google.colab.kernel.invokeFunction(\n",
       "                'suggestCharts', [key], {});\n",
       "          } catch (error) {\n",
       "            console.error('Error during call to suggestCharts:', error);\n",
       "          }\n",
       "          quickchartButtonEl.classList.remove('colab-df-spinner');\n",
       "          quickchartButtonEl.classList.add('colab-df-quickchart-complete');\n",
       "        }\n",
       "        (() => {\n",
       "          let quickchartButtonEl =\n",
       "            document.querySelector('#df-88182ed8-e18c-4f3a-836b-6b672d0254c8 button');\n",
       "          quickchartButtonEl.style.display =\n",
       "            google.colab.kernel.accessAllowed ? 'block' : 'none';\n",
       "        })();\n",
       "      </script>\n",
       "    </div>\n",
       "\n",
       "    </div>\n",
       "  </div>\n"
      ],
      "text/plain": [
       "  Diagnosis\n",
       "0         M\n",
       "1         M\n",
       "2         M\n",
       "3         M\n",
       "4         M"
      ]
     },
     "execution_count": 12,
     "metadata": {},
     "output_type": "execute_result"
    }
   ],
   "source": [
    "# Some packages we are going to use:\n",
    "import numpy as np\n",
    "import pandas as pd\n",
    "import matplotlib.pyplot as plt\n",
    "import seaborn as sns\n",
    "from ucimlrepo import fetch_ucirepo\n",
    "\n",
    "# fetch dataset\n",
    "breast_cancer_wisconsin_diagnostic = fetch_ucirepo(id=17)\n",
    "\n",
    "# data (as pandas dataframes)\n",
    "data = breast_cancer_wisconsin_diagnostic.data.features\n",
    "y = breast_cancer_wisconsin_diagnostic.data.targets\n",
    "\n",
    "#Check the first few rows\n",
    "data.head()\n",
    "y.head()\n"
   ]
  },
  {
   "cell_type": "markdown",
   "id": "4b4d0083-82d2-4db3-a84b-d66fadef0d26",
   "metadata": {
    "id": "4b4d0083-82d2-4db3-a84b-d66fadef0d26"
   },
   "source": [
    "# Exploratory data analysis\n",
    "\n",
    "Before applying specific machine learning methods, it is common to start a data science project with an **exploratory data analysis (EDA)**.\n",
    "\n",
    "First, we use some functions to display the dataset size and basic information about its columns."
   ]
  },
  {
   "cell_type": "code",
   "execution_count": 13,
   "id": "3e1189f4-7f48-4bec-aef3-91f4530c2a64",
   "metadata": {
    "colab": {
     "base_uri": "https://localhost:8080/",
     "height": 1000
    },
    "executionInfo": {
     "elapsed": 241,
     "status": "ok",
     "timestamp": 1747640876796,
     "user": {
      "displayName": "Miquel Mayor Tortosa",
      "userId": "02292380127990734589"
     },
     "user_tz": -120
    },
    "id": "3e1189f4-7f48-4bec-aef3-91f4530c2a64",
    "outputId": "9e1fa642-3cd5-4227-f3dc-c72e8055137f"
   },
   "outputs": [
    {
     "name": "stdout",
     "output_type": "stream",
     "text": [
      "Dataset size:  (569, 30)\n",
      "\n",
      " **************************************************************************************************** \n",
      "\n",
      "<class 'pandas.core.frame.DataFrame'>\n",
      "RangeIndex: 569 entries, 0 to 568\n",
      "Data columns (total 30 columns):\n",
      " #   Column              Non-Null Count  Dtype  \n",
      "---  ------              --------------  -----  \n",
      " 0   radius1             569 non-null    float64\n",
      " 1   texture1            569 non-null    float64\n",
      " 2   perimeter1          569 non-null    float64\n",
      " 3   area1               569 non-null    float64\n",
      " 4   smoothness1         569 non-null    float64\n",
      " 5   compactness1        569 non-null    float64\n",
      " 6   concavity1          569 non-null    float64\n",
      " 7   concave_points1     569 non-null    float64\n",
      " 8   symmetry1           569 non-null    float64\n",
      " 9   fractal_dimension1  569 non-null    float64\n",
      " 10  radius2             569 non-null    float64\n",
      " 11  texture2            569 non-null    float64\n",
      " 12  perimeter2          569 non-null    float64\n",
      " 13  area2               569 non-null    float64\n",
      " 14  smoothness2         569 non-null    float64\n",
      " 15  compactness2        569 non-null    float64\n",
      " 16  concavity2          569 non-null    float64\n",
      " 17  concave_points2     569 non-null    float64\n",
      " 18  symmetry2           569 non-null    float64\n",
      " 19  fractal_dimension2  569 non-null    float64\n",
      " 20  radius3             569 non-null    float64\n",
      " 21  texture3            569 non-null    float64\n",
      " 22  perimeter3          569 non-null    float64\n",
      " 23  area3               569 non-null    float64\n",
      " 24  smoothness3         569 non-null    float64\n",
      " 25  compactness3        569 non-null    float64\n",
      " 26  concavity3          569 non-null    float64\n",
      " 27  concave_points3     569 non-null    float64\n",
      " 28  symmetry3           569 non-null    float64\n",
      " 29  fractal_dimension3  569 non-null    float64\n",
      "dtypes: float64(30)\n",
      "memory usage: 133.5 KB\n",
      "\n",
      " **************************************************************************************************** \n",
      "\n"
     ]
    },
    {
     "data": {
      "application/vnd.google.colaboratory.intrinsic+json": {
       "type": "dataframe"
      },
      "text/html": [
       "\n",
       "  <div id=\"df-6f82ec6a-0ef1-4470-ad9b-96a1b55f049d\" class=\"colab-df-container\">\n",
       "    <div>\n",
       "<style scoped>\n",
       "    .dataframe tbody tr th:only-of-type {\n",
       "        vertical-align: middle;\n",
       "    }\n",
       "\n",
       "    .dataframe tbody tr th {\n",
       "        vertical-align: top;\n",
       "    }\n",
       "\n",
       "    .dataframe thead th {\n",
       "        text-align: right;\n",
       "    }\n",
       "</style>\n",
       "<table border=\"1\" class=\"dataframe\">\n",
       "  <thead>\n",
       "    <tr style=\"text-align: right;\">\n",
       "      <th></th>\n",
       "      <th>radius1</th>\n",
       "      <th>texture1</th>\n",
       "      <th>perimeter1</th>\n",
       "      <th>area1</th>\n",
       "      <th>smoothness1</th>\n",
       "      <th>compactness1</th>\n",
       "      <th>concavity1</th>\n",
       "      <th>concave_points1</th>\n",
       "      <th>symmetry1</th>\n",
       "      <th>fractal_dimension1</th>\n",
       "      <th>...</th>\n",
       "      <th>radius3</th>\n",
       "      <th>texture3</th>\n",
       "      <th>perimeter3</th>\n",
       "      <th>area3</th>\n",
       "      <th>smoothness3</th>\n",
       "      <th>compactness3</th>\n",
       "      <th>concavity3</th>\n",
       "      <th>concave_points3</th>\n",
       "      <th>symmetry3</th>\n",
       "      <th>fractal_dimension3</th>\n",
       "    </tr>\n",
       "  </thead>\n",
       "  <tbody>\n",
       "    <tr>\n",
       "      <th>count</th>\n",
       "      <td>569.000000</td>\n",
       "      <td>569.000000</td>\n",
       "      <td>569.000000</td>\n",
       "      <td>569.000000</td>\n",
       "      <td>569.000000</td>\n",
       "      <td>569.000000</td>\n",
       "      <td>569.000000</td>\n",
       "      <td>569.000000</td>\n",
       "      <td>569.000000</td>\n",
       "      <td>569.000000</td>\n",
       "      <td>...</td>\n",
       "      <td>569.000000</td>\n",
       "      <td>569.000000</td>\n",
       "      <td>569.000000</td>\n",
       "      <td>569.000000</td>\n",
       "      <td>569.000000</td>\n",
       "      <td>569.000000</td>\n",
       "      <td>569.000000</td>\n",
       "      <td>569.000000</td>\n",
       "      <td>569.000000</td>\n",
       "      <td>569.000000</td>\n",
       "    </tr>\n",
       "    <tr>\n",
       "      <th>mean</th>\n",
       "      <td>14.127292</td>\n",
       "      <td>19.289649</td>\n",
       "      <td>91.969033</td>\n",
       "      <td>654.889104</td>\n",
       "      <td>0.096360</td>\n",
       "      <td>0.104341</td>\n",
       "      <td>0.088799</td>\n",
       "      <td>0.048919</td>\n",
       "      <td>0.181162</td>\n",
       "      <td>0.062798</td>\n",
       "      <td>...</td>\n",
       "      <td>16.269190</td>\n",
       "      <td>25.677223</td>\n",
       "      <td>107.261213</td>\n",
       "      <td>880.583128</td>\n",
       "      <td>0.132369</td>\n",
       "      <td>0.254265</td>\n",
       "      <td>0.272188</td>\n",
       "      <td>0.114606</td>\n",
       "      <td>0.290076</td>\n",
       "      <td>0.083946</td>\n",
       "    </tr>\n",
       "    <tr>\n",
       "      <th>std</th>\n",
       "      <td>3.524049</td>\n",
       "      <td>4.301036</td>\n",
       "      <td>24.298981</td>\n",
       "      <td>351.914129</td>\n",
       "      <td>0.014064</td>\n",
       "      <td>0.052813</td>\n",
       "      <td>0.079720</td>\n",
       "      <td>0.038803</td>\n",
       "      <td>0.027414</td>\n",
       "      <td>0.007060</td>\n",
       "      <td>...</td>\n",
       "      <td>4.833242</td>\n",
       "      <td>6.146258</td>\n",
       "      <td>33.602542</td>\n",
       "      <td>569.356993</td>\n",
       "      <td>0.022832</td>\n",
       "      <td>0.157336</td>\n",
       "      <td>0.208624</td>\n",
       "      <td>0.065732</td>\n",
       "      <td>0.061867</td>\n",
       "      <td>0.018061</td>\n",
       "    </tr>\n",
       "    <tr>\n",
       "      <th>min</th>\n",
       "      <td>6.981000</td>\n",
       "      <td>9.710000</td>\n",
       "      <td>43.790000</td>\n",
       "      <td>143.500000</td>\n",
       "      <td>0.052630</td>\n",
       "      <td>0.019380</td>\n",
       "      <td>0.000000</td>\n",
       "      <td>0.000000</td>\n",
       "      <td>0.106000</td>\n",
       "      <td>0.049960</td>\n",
       "      <td>...</td>\n",
       "      <td>7.930000</td>\n",
       "      <td>12.020000</td>\n",
       "      <td>50.410000</td>\n",
       "      <td>185.200000</td>\n",
       "      <td>0.071170</td>\n",
       "      <td>0.027290</td>\n",
       "      <td>0.000000</td>\n",
       "      <td>0.000000</td>\n",
       "      <td>0.156500</td>\n",
       "      <td>0.055040</td>\n",
       "    </tr>\n",
       "    <tr>\n",
       "      <th>25%</th>\n",
       "      <td>11.700000</td>\n",
       "      <td>16.170000</td>\n",
       "      <td>75.170000</td>\n",
       "      <td>420.300000</td>\n",
       "      <td>0.086370</td>\n",
       "      <td>0.064920</td>\n",
       "      <td>0.029560</td>\n",
       "      <td>0.020310</td>\n",
       "      <td>0.161900</td>\n",
       "      <td>0.057700</td>\n",
       "      <td>...</td>\n",
       "      <td>13.010000</td>\n",
       "      <td>21.080000</td>\n",
       "      <td>84.110000</td>\n",
       "      <td>515.300000</td>\n",
       "      <td>0.116600</td>\n",
       "      <td>0.147200</td>\n",
       "      <td>0.114500</td>\n",
       "      <td>0.064930</td>\n",
       "      <td>0.250400</td>\n",
       "      <td>0.071460</td>\n",
       "    </tr>\n",
       "    <tr>\n",
       "      <th>50%</th>\n",
       "      <td>13.370000</td>\n",
       "      <td>18.840000</td>\n",
       "      <td>86.240000</td>\n",
       "      <td>551.100000</td>\n",
       "      <td>0.095870</td>\n",
       "      <td>0.092630</td>\n",
       "      <td>0.061540</td>\n",
       "      <td>0.033500</td>\n",
       "      <td>0.179200</td>\n",
       "      <td>0.061540</td>\n",
       "      <td>...</td>\n",
       "      <td>14.970000</td>\n",
       "      <td>25.410000</td>\n",
       "      <td>97.660000</td>\n",
       "      <td>686.500000</td>\n",
       "      <td>0.131300</td>\n",
       "      <td>0.211900</td>\n",
       "      <td>0.226700</td>\n",
       "      <td>0.099930</td>\n",
       "      <td>0.282200</td>\n",
       "      <td>0.080040</td>\n",
       "    </tr>\n",
       "    <tr>\n",
       "      <th>75%</th>\n",
       "      <td>15.780000</td>\n",
       "      <td>21.800000</td>\n",
       "      <td>104.100000</td>\n",
       "      <td>782.700000</td>\n",
       "      <td>0.105300</td>\n",
       "      <td>0.130400</td>\n",
       "      <td>0.130700</td>\n",
       "      <td>0.074000</td>\n",
       "      <td>0.195700</td>\n",
       "      <td>0.066120</td>\n",
       "      <td>...</td>\n",
       "      <td>18.790000</td>\n",
       "      <td>29.720000</td>\n",
       "      <td>125.400000</td>\n",
       "      <td>1084.000000</td>\n",
       "      <td>0.146000</td>\n",
       "      <td>0.339100</td>\n",
       "      <td>0.382900</td>\n",
       "      <td>0.161400</td>\n",
       "      <td>0.317900</td>\n",
       "      <td>0.092080</td>\n",
       "    </tr>\n",
       "    <tr>\n",
       "      <th>max</th>\n",
       "      <td>28.110000</td>\n",
       "      <td>39.280000</td>\n",
       "      <td>188.500000</td>\n",
       "      <td>2501.000000</td>\n",
       "      <td>0.163400</td>\n",
       "      <td>0.345400</td>\n",
       "      <td>0.426800</td>\n",
       "      <td>0.201200</td>\n",
       "      <td>0.304000</td>\n",
       "      <td>0.097440</td>\n",
       "      <td>...</td>\n",
       "      <td>36.040000</td>\n",
       "      <td>49.540000</td>\n",
       "      <td>251.200000</td>\n",
       "      <td>4254.000000</td>\n",
       "      <td>0.222600</td>\n",
       "      <td>1.058000</td>\n",
       "      <td>1.252000</td>\n",
       "      <td>0.291000</td>\n",
       "      <td>0.663800</td>\n",
       "      <td>0.207500</td>\n",
       "    </tr>\n",
       "  </tbody>\n",
       "</table>\n",
       "<p>8 rows × 30 columns</p>\n",
       "</div>\n",
       "    <div class=\"colab-df-buttons\">\n",
       "\n",
       "  <div class=\"colab-df-container\">\n",
       "    <button class=\"colab-df-convert\" onclick=\"convertToInteractive('df-6f82ec6a-0ef1-4470-ad9b-96a1b55f049d')\"\n",
       "            title=\"Convert this dataframe to an interactive table.\"\n",
       "            style=\"display:none;\">\n",
       "\n",
       "  <svg xmlns=\"http://www.w3.org/2000/svg\" height=\"24px\" viewBox=\"0 -960 960 960\">\n",
       "    <path d=\"M120-120v-720h720v720H120Zm60-500h600v-160H180v160Zm220 220h160v-160H400v160Zm0 220h160v-160H400v160ZM180-400h160v-160H180v160Zm440 0h160v-160H620v160ZM180-180h160v-160H180v160Zm440 0h160v-160H620v160Z\"/>\n",
       "  </svg>\n",
       "    </button>\n",
       "\n",
       "  <style>\n",
       "    .colab-df-container {\n",
       "      display:flex;\n",
       "      gap: 12px;\n",
       "    }\n",
       "\n",
       "    .colab-df-convert {\n",
       "      background-color: #E8F0FE;\n",
       "      border: none;\n",
       "      border-radius: 50%;\n",
       "      cursor: pointer;\n",
       "      display: none;\n",
       "      fill: #1967D2;\n",
       "      height: 32px;\n",
       "      padding: 0 0 0 0;\n",
       "      width: 32px;\n",
       "    }\n",
       "\n",
       "    .colab-df-convert:hover {\n",
       "      background-color: #E2EBFA;\n",
       "      box-shadow: 0px 1px 2px rgba(60, 64, 67, 0.3), 0px 1px 3px 1px rgba(60, 64, 67, 0.15);\n",
       "      fill: #174EA6;\n",
       "    }\n",
       "\n",
       "    .colab-df-buttons div {\n",
       "      margin-bottom: 4px;\n",
       "    }\n",
       "\n",
       "    [theme=dark] .colab-df-convert {\n",
       "      background-color: #3B4455;\n",
       "      fill: #D2E3FC;\n",
       "    }\n",
       "\n",
       "    [theme=dark] .colab-df-convert:hover {\n",
       "      background-color: #434B5C;\n",
       "      box-shadow: 0px 1px 3px 1px rgba(0, 0, 0, 0.15);\n",
       "      filter: drop-shadow(0px 1px 2px rgba(0, 0, 0, 0.3));\n",
       "      fill: #FFFFFF;\n",
       "    }\n",
       "  </style>\n",
       "\n",
       "    <script>\n",
       "      const buttonEl =\n",
       "        document.querySelector('#df-6f82ec6a-0ef1-4470-ad9b-96a1b55f049d button.colab-df-convert');\n",
       "      buttonEl.style.display =\n",
       "        google.colab.kernel.accessAllowed ? 'block' : 'none';\n",
       "\n",
       "      async function convertToInteractive(key) {\n",
       "        const element = document.querySelector('#df-6f82ec6a-0ef1-4470-ad9b-96a1b55f049d');\n",
       "        const dataTable =\n",
       "          await google.colab.kernel.invokeFunction('convertToInteractive',\n",
       "                                                    [key], {});\n",
       "        if (!dataTable) return;\n",
       "\n",
       "        const docLinkHtml = 'Like what you see? Visit the ' +\n",
       "          '<a target=\"_blank\" href=https://colab.research.google.com/notebooks/data_table.ipynb>data table notebook</a>'\n",
       "          + ' to learn more about interactive tables.';\n",
       "        element.innerHTML = '';\n",
       "        dataTable['output_type'] = 'display_data';\n",
       "        await google.colab.output.renderOutput(dataTable, element);\n",
       "        const docLink = document.createElement('div');\n",
       "        docLink.innerHTML = docLinkHtml;\n",
       "        element.appendChild(docLink);\n",
       "      }\n",
       "    </script>\n",
       "  </div>\n",
       "\n",
       "\n",
       "    <div id=\"df-ee081b74-d368-4bf9-ac2f-082b774bd111\">\n",
       "      <button class=\"colab-df-quickchart\" onclick=\"quickchart('df-ee081b74-d368-4bf9-ac2f-082b774bd111')\"\n",
       "                title=\"Suggest charts\"\n",
       "                style=\"display:none;\">\n",
       "\n",
       "<svg xmlns=\"http://www.w3.org/2000/svg\" height=\"24px\"viewBox=\"0 0 24 24\"\n",
       "     width=\"24px\">\n",
       "    <g>\n",
       "        <path d=\"M19 3H5c-1.1 0-2 .9-2 2v14c0 1.1.9 2 2 2h14c1.1 0 2-.9 2-2V5c0-1.1-.9-2-2-2zM9 17H7v-7h2v7zm4 0h-2V7h2v10zm4 0h-2v-4h2v4z\"/>\n",
       "    </g>\n",
       "</svg>\n",
       "      </button>\n",
       "\n",
       "<style>\n",
       "  .colab-df-quickchart {\n",
       "      --bg-color: #E8F0FE;\n",
       "      --fill-color: #1967D2;\n",
       "      --hover-bg-color: #E2EBFA;\n",
       "      --hover-fill-color: #174EA6;\n",
       "      --disabled-fill-color: #AAA;\n",
       "      --disabled-bg-color: #DDD;\n",
       "  }\n",
       "\n",
       "  [theme=dark] .colab-df-quickchart {\n",
       "      --bg-color: #3B4455;\n",
       "      --fill-color: #D2E3FC;\n",
       "      --hover-bg-color: #434B5C;\n",
       "      --hover-fill-color: #FFFFFF;\n",
       "      --disabled-bg-color: #3B4455;\n",
       "      --disabled-fill-color: #666;\n",
       "  }\n",
       "\n",
       "  .colab-df-quickchart {\n",
       "    background-color: var(--bg-color);\n",
       "    border: none;\n",
       "    border-radius: 50%;\n",
       "    cursor: pointer;\n",
       "    display: none;\n",
       "    fill: var(--fill-color);\n",
       "    height: 32px;\n",
       "    padding: 0;\n",
       "    width: 32px;\n",
       "  }\n",
       "\n",
       "  .colab-df-quickchart:hover {\n",
       "    background-color: var(--hover-bg-color);\n",
       "    box-shadow: 0 1px 2px rgba(60, 64, 67, 0.3), 0 1px 3px 1px rgba(60, 64, 67, 0.15);\n",
       "    fill: var(--button-hover-fill-color);\n",
       "  }\n",
       "\n",
       "  .colab-df-quickchart-complete:disabled,\n",
       "  .colab-df-quickchart-complete:disabled:hover {\n",
       "    background-color: var(--disabled-bg-color);\n",
       "    fill: var(--disabled-fill-color);\n",
       "    box-shadow: none;\n",
       "  }\n",
       "\n",
       "  .colab-df-spinner {\n",
       "    border: 2px solid var(--fill-color);\n",
       "    border-color: transparent;\n",
       "    border-bottom-color: var(--fill-color);\n",
       "    animation:\n",
       "      spin 1s steps(1) infinite;\n",
       "  }\n",
       "\n",
       "  @keyframes spin {\n",
       "    0% {\n",
       "      border-color: transparent;\n",
       "      border-bottom-color: var(--fill-color);\n",
       "      border-left-color: var(--fill-color);\n",
       "    }\n",
       "    20% {\n",
       "      border-color: transparent;\n",
       "      border-left-color: var(--fill-color);\n",
       "      border-top-color: var(--fill-color);\n",
       "    }\n",
       "    30% {\n",
       "      border-color: transparent;\n",
       "      border-left-color: var(--fill-color);\n",
       "      border-top-color: var(--fill-color);\n",
       "      border-right-color: var(--fill-color);\n",
       "    }\n",
       "    40% {\n",
       "      border-color: transparent;\n",
       "      border-right-color: var(--fill-color);\n",
       "      border-top-color: var(--fill-color);\n",
       "    }\n",
       "    60% {\n",
       "      border-color: transparent;\n",
       "      border-right-color: var(--fill-color);\n",
       "    }\n",
       "    80% {\n",
       "      border-color: transparent;\n",
       "      border-right-color: var(--fill-color);\n",
       "      border-bottom-color: var(--fill-color);\n",
       "    }\n",
       "    90% {\n",
       "      border-color: transparent;\n",
       "      border-bottom-color: var(--fill-color);\n",
       "    }\n",
       "  }\n",
       "</style>\n",
       "\n",
       "      <script>\n",
       "        async function quickchart(key) {\n",
       "          const quickchartButtonEl =\n",
       "            document.querySelector('#' + key + ' button');\n",
       "          quickchartButtonEl.disabled = true;  // To prevent multiple clicks.\n",
       "          quickchartButtonEl.classList.add('colab-df-spinner');\n",
       "          try {\n",
       "            const charts = await google.colab.kernel.invokeFunction(\n",
       "                'suggestCharts', [key], {});\n",
       "          } catch (error) {\n",
       "            console.error('Error during call to suggestCharts:', error);\n",
       "          }\n",
       "          quickchartButtonEl.classList.remove('colab-df-spinner');\n",
       "          quickchartButtonEl.classList.add('colab-df-quickchart-complete');\n",
       "        }\n",
       "        (() => {\n",
       "          let quickchartButtonEl =\n",
       "            document.querySelector('#df-ee081b74-d368-4bf9-ac2f-082b774bd111 button');\n",
       "          quickchartButtonEl.style.display =\n",
       "            google.colab.kernel.accessAllowed ? 'block' : 'none';\n",
       "        })();\n",
       "      </script>\n",
       "    </div>\n",
       "\n",
       "    </div>\n",
       "  </div>\n"
      ],
      "text/plain": [
       "          radius1    texture1  perimeter1        area1  smoothness1  \\\n",
       "count  569.000000  569.000000  569.000000   569.000000   569.000000   \n",
       "mean    14.127292   19.289649   91.969033   654.889104     0.096360   \n",
       "std      3.524049    4.301036   24.298981   351.914129     0.014064   \n",
       "min      6.981000    9.710000   43.790000   143.500000     0.052630   \n",
       "25%     11.700000   16.170000   75.170000   420.300000     0.086370   \n",
       "50%     13.370000   18.840000   86.240000   551.100000     0.095870   \n",
       "75%     15.780000   21.800000  104.100000   782.700000     0.105300   \n",
       "max     28.110000   39.280000  188.500000  2501.000000     0.163400   \n",
       "\n",
       "       compactness1  concavity1  concave_points1   symmetry1  \\\n",
       "count    569.000000  569.000000       569.000000  569.000000   \n",
       "mean       0.104341    0.088799         0.048919    0.181162   \n",
       "std        0.052813    0.079720         0.038803    0.027414   \n",
       "min        0.019380    0.000000         0.000000    0.106000   \n",
       "25%        0.064920    0.029560         0.020310    0.161900   \n",
       "50%        0.092630    0.061540         0.033500    0.179200   \n",
       "75%        0.130400    0.130700         0.074000    0.195700   \n",
       "max        0.345400    0.426800         0.201200    0.304000   \n",
       "\n",
       "       fractal_dimension1  ...     radius3    texture3  perimeter3  \\\n",
       "count          569.000000  ...  569.000000  569.000000  569.000000   \n",
       "mean             0.062798  ...   16.269190   25.677223  107.261213   \n",
       "std              0.007060  ...    4.833242    6.146258   33.602542   \n",
       "min              0.049960  ...    7.930000   12.020000   50.410000   \n",
       "25%              0.057700  ...   13.010000   21.080000   84.110000   \n",
       "50%              0.061540  ...   14.970000   25.410000   97.660000   \n",
       "75%              0.066120  ...   18.790000   29.720000  125.400000   \n",
       "max              0.097440  ...   36.040000   49.540000  251.200000   \n",
       "\n",
       "             area3  smoothness3  compactness3  concavity3  concave_points3  \\\n",
       "count   569.000000   569.000000    569.000000  569.000000       569.000000   \n",
       "mean    880.583128     0.132369      0.254265    0.272188         0.114606   \n",
       "std     569.356993     0.022832      0.157336    0.208624         0.065732   \n",
       "min     185.200000     0.071170      0.027290    0.000000         0.000000   \n",
       "25%     515.300000     0.116600      0.147200    0.114500         0.064930   \n",
       "50%     686.500000     0.131300      0.211900    0.226700         0.099930   \n",
       "75%    1084.000000     0.146000      0.339100    0.382900         0.161400   \n",
       "max    4254.000000     0.222600      1.058000    1.252000         0.291000   \n",
       "\n",
       "        symmetry3  fractal_dimension3  \n",
       "count  569.000000          569.000000  \n",
       "mean     0.290076            0.083946  \n",
       "std      0.061867            0.018061  \n",
       "min      0.156500            0.055040  \n",
       "25%      0.250400            0.071460  \n",
       "50%      0.282200            0.080040  \n",
       "75%      0.317900            0.092080  \n",
       "max      0.663800            0.207500  \n",
       "\n",
       "[8 rows x 30 columns]"
      ]
     },
     "execution_count": 13,
     "metadata": {},
     "output_type": "execute_result"
    }
   ],
   "source": [
    "# Display dataset size\n",
    "print(\"Dataset size: \", data.shape)\n",
    "\n",
    "# Separator for readability\n",
    "print('\\n', '**' * 50, '\\n')\n",
    "\n",
    "# Display dataset information\n",
    "data.info()\n",
    "\n",
    "# Another separator\n",
    "print('\\n', '**' * 50, '\\n')\n",
    "\n",
    "# Generate descriptive statistics for numerical and categorical features\n",
    "data.describe(include='all')"
   ]
  },
  {
   "cell_type": "markdown",
   "id": "90336f37-3873-4638-831c-3de767a9dec0",
   "metadata": {
    "id": "90336f37-3873-4638-831c-3de767a9dec0"
   },
   "source": [
    "Next, we check whether any columns contain missing values.\n"
   ]
  },
  {
   "cell_type": "code",
   "execution_count": 14,
   "id": "d861ab75-7cdf-47ff-921d-d21a1df27abc",
   "metadata": {
    "colab": {
     "base_uri": "https://localhost:8080/"
    },
    "executionInfo": {
     "elapsed": 16,
     "status": "ok",
     "timestamp": 1747640884873,
     "user": {
      "displayName": "Miquel Mayor Tortosa",
      "userId": "02292380127990734589"
     },
     "user_tz": -120
    },
    "id": "d861ab75-7cdf-47ff-921d-d21a1df27abc",
    "outputId": "219c59ee-d93c-422a-e48d-ce8747b17803"
   },
   "outputs": [
    {
     "name": "stdout",
     "output_type": "stream",
     "text": [
      "Missing values in each column:\n",
      "radius1               0\n",
      "texture1              0\n",
      "perimeter1            0\n",
      "area1                 0\n",
      "smoothness1           0\n",
      "compactness1          0\n",
      "concavity1            0\n",
      "concave_points1       0\n",
      "symmetry1             0\n",
      "fractal_dimension1    0\n",
      "radius2               0\n",
      "texture2              0\n",
      "perimeter2            0\n",
      "area2                 0\n",
      "smoothness2           0\n",
      "compactness2          0\n",
      "concavity2            0\n",
      "concave_points2       0\n",
      "symmetry2             0\n",
      "fractal_dimension2    0\n",
      "radius3               0\n",
      "texture3              0\n",
      "perimeter3            0\n",
      "area3                 0\n",
      "smoothness3           0\n",
      "compactness3          0\n",
      "concavity3            0\n",
      "concave_points3       0\n",
      "symmetry3             0\n",
      "fractal_dimension3    0\n",
      "dtype: int64\n"
     ]
    }
   ],
   "source": [
    "# Check for missing values in the dataset\n",
    "print(\"Missing values in each column:\")\n",
    "print(data.isnull().sum())\n"
   ]
  },
  {
   "cell_type": "markdown",
   "id": "77728001-5580-47d5-86f4-2d3bb8ea11ed",
   "metadata": {
    "id": "77728001-5580-47d5-86f4-2d3bb8ea11ed"
   },
   "source": [
    "What do these values mean? These measurements describe groups of cell nuclei that come either from a benign or malignant sample, as seen through microscopy imaging. We will not get into details, as we are interested on understanding the different classification algorithms. For more info check the [original paper](https://www.semanticscholar.org/paper/Nuclear-feature-extraction-for-breast-tumor-Street-Wolberg/53f0fbb425bc14468eb3bf96b2e1d41ba8087f36).\n",
    "\n",
    "For each nucleus characteristic (e.g., radius, texture, area), three statistical summaries are provided to capture:\n",
    "\n",
    "1. Mean (e.g., area1): Average value of the feature across all nuclei in the sample.\n",
    "2. Standard Error (e.g., area2) of the mean.\n",
    "3. \"Worst\" Value (e.g., area3): Largest value observed."
   ]
  },
  {
   "cell_type": "markdown",
   "id": "d554d8cc-dc70-4704-b521-5238565151de",
   "metadata": {
    "id": "d554d8cc-dc70-4704-b521-5238565151de"
   },
   "source": [
    "Now, we check the number of samples per class in the target variable.\n",
    "\n",
    "\n",
    "\n",
    "\n"
   ]
  },
  {
   "cell_type": "code",
   "execution_count": null,
   "id": "1a2c6414-65eb-440e-b601-7cead974b44a",
   "metadata": {
    "colab": {
     "base_uri": "https://localhost:8080/"
    },
    "executionInfo": {
     "elapsed": 12,
     "status": "ok",
     "timestamp": 1747639758788,
     "user": {
      "displayName": "Miquel Mayor Tortosa",
      "userId": "02292380127990734589"
     },
     "user_tz": -120
    },
    "id": "1a2c6414-65eb-440e-b601-7cead974b44a",
    "outputId": "dc0188b2-c918-4821-d0c5-93942f874fa9"
   },
   "outputs": [
    {
     "name": "stdout",
     "output_type": "stream",
     "text": [
      "Number of samples per class:\n",
      "Diagnosis\n",
      "B    357\n",
      "M    212\n",
      "Name: count, dtype: int64\n"
     ]
    }
   ],
   "source": [
    "print(\"Number of samples per class:\")\n",
    "print(y['Diagnosis'].value_counts())"
   ]
  },
  {
   "cell_type": "markdown",
   "id": "853722dd-d0c8-4e00-bed1-7430d9aba7db",
   "metadata": {
    "id": "853722dd-d0c8-4e00-bed1-7430d9aba7db"
   },
   "source": [
    "As we can see, the dataset is slightly imbalanced, with more samples in the Diagnosis. Using the graphical libraries Seaborn (https://seaborn.pydata.org/) and Matplotlib, we will create a histogram to visualize this distribution."
   ]
  },
  {
   "cell_type": "code",
   "execution_count": null,
   "id": "0179f363-e412-44d9-a539-6e27f5f02230",
   "metadata": {
    "colab": {
     "base_uri": "https://localhost:8080/",
     "height": 410
    },
    "executionInfo": {
     "elapsed": 255,
     "status": "ok",
     "timestamp": 1747639761691,
     "user": {
      "displayName": "Miquel Mayor Tortosa",
      "userId": "02292380127990734589"
     },
     "user_tz": -120
    },
    "id": "0179f363-e412-44d9-a539-6e27f5f02230",
    "outputId": "cdac1979-0426-4b73-b992-841aadcc6385"
   },
   "outputs": [
    {
     "data": {
      "image/png": "[encoded data removed]",
      "text/plain": [
       "<Figure size 600x400 with 1 Axes>"
      ]
     },
     "metadata": {},
     "output_type": "display_data"
    }
   ],
   "source": [
    "# Plot class distribution\n",
    "plt.figure(figsize=(6,4))\n",
    "sns.countplot(x=y['Diagnosis'], hue=y['Diagnosis'], palette=\"pastel\", legend=False)\n",
    "plt.title(\"Class Distribution (Belignant vs. Malignat)\")\n",
    "plt.xlabel(\"Diagnosis\")\n",
    "plt.ylabel(\"Count\")\n",
    "plt.show()"
   ]
  },
  {
   "cell_type": "markdown",
   "id": "78b8a832-e00b-4583-8611-65d3cefc47f8",
   "metadata": {
    "id": "78b8a832-e00b-4583-8611-65d3cefc47f8"
   },
   "source": [
    "### Analyzing Feature Distributions by Diagnosis\n",
    "\n",
    "All remaining features in the dataset are **real-valued**, so we will use **histograms with KDE (kernel density estimation)** to analyze how selected features differ across the two classes:\n",
    "\n",
    "- **B**: Benign\n",
    "- **M**: Malignant\n",
    "\n",
    "This allows us to visually compare the distribution of key features and observe whether certain measurements are more associated with one diagnosis than the other.\n"
   ]
  },
  {
   "cell_type": "code",
   "execution_count": null,
   "id": "91486f5b-5a28-44a4-9c4d-a11c6c945129",
   "metadata": {
    "colab": {
     "base_uri": "https://localhost:8080/",
     "height": 1000
    },
    "executionInfo": {
     "elapsed": 2750,
     "status": "ok",
     "timestamp": 1747639767149,
     "user": {
      "displayName": "Miquel Mayor Tortosa",
      "userId": "02292380127990734589"
     },
     "user_tz": -120
    },
    "id": "91486f5b-5a28-44a4-9c4d-a11c6c945129",
    "outputId": "4a86f0c0-b095-4ae4-9ec0-536983f22e38"
   },
   "outputs": [
    {
     "data": {
      "image/png": "[encoded data removed]",
      "text/plain": [
       "<Figure size 678.611x400 with 1 Axes>"
      ]
     },
     "metadata": {},
     "output_type": "display_data"
    },
    {
     "data": {
      "image/png": "[encoded data removed]",
      "text/plain": [
       "<Figure size 678.611x400 with 1 Axes>"
      ]
     },
     "metadata": {},
     "output_type": "display_data"
    },
    {
     "data": {
      "image/png": "[encoded data removed]",
      "text/plain": [
       "<Figure size 678.611x400 with 1 Axes>"
      ]
     },
     "metadata": {},
     "output_type": "display_data"
    }
   ],
   "source": [
    "# Select a few key features for distribution comparison\n",
    "selected_features = ['radius1', 'area1', 'texture1']\n",
    "\n",
    "# Plot histograms grouped by diagnosis\n",
    "for feature in selected_features:\n",
    "    sns.displot(data=data, x=feature, hue=y['Diagnosis'], kde=True, element='step', height=4, aspect=1.5)\n",
    "    plt.title(f\"Distribution of {feature} by Diagnosis\")\n",
    "    plt.show()\n",
    "\n",
    "# - You may modify the `selected_features` list to explore other variables as well.\n"
   ]
  },
  {
   "cell_type": "markdown",
   "id": "e72fd380-b5d3-46ff-b359-b1410bd5ce1b",
   "metadata": {
    "id": "e72fd380-b5d3-46ff-b359-b1410bd5ce1b"
   },
   "source": [
    "### Train-Test Split\n",
    "\n",
    "First, we will separate the original dataset (`data`) into:\n",
    "\n",
    "- **`X`**: A DataFrame containing the **predictor variables** (all real-valued features).\n",
    "- **`Y`**: A Series containing the **target variable** (`diagnosis`), which indicates whether the tumor is **benign (B)** or **malignant (M)**.\n"
   ]
  },
  {
   "cell_type": "code",
   "execution_count": null,
   "id": "b8a6121c-66d5-4ecd-a61c-3ffffcedf7bd",
   "metadata": {
    "colab": {
     "base_uri": "https://localhost:8080/"
    },
    "executionInfo": {
     "elapsed": 16,
     "status": "ok",
     "timestamp": 1747639777421,
     "user": {
      "displayName": "Miquel Mayor Tortosa",
      "userId": "02292380127990734589"
     },
     "user_tz": -120
    },
    "id": "b8a6121c-66d5-4ecd-a61c-3ffffcedf7bd",
    "outputId": "ce9306af-ba87-4ae1-83d8-4cd33d62c7ba"
   },
   "outputs": [
    {
     "name": "stdout",
     "output_type": "stream",
     "text": [
      "Dataset size (samples x variables): (569, 30)\n",
      "X shape: (569, 30)\n",
      "Y shape: (569, 1)\n"
     ]
    }
   ],
   "source": [
    "# Display dataset size\n",
    "print(\"Dataset size (samples x variables):\", data.shape)\n",
    "\n",
    "# Define predictor variables\n",
    "X = data.copy()\n",
    "\n",
    "# Define target variable\n",
    "Y = y.copy()\n",
    "\n",
    "# Display shapes of X and y\n",
    "print(\"X shape:\", X.shape)\n",
    "print(\"Y shape:\", Y.shape)\n"
   ]
  },
  {
   "cell_type": "markdown",
   "id": "0f9aa02b-8ad6-4915-bc17-5019c850140a",
   "metadata": {
    "id": "0f9aa02b-8ad6-4915-bc17-5019c850140a"
   },
   "source": [
    "Next, we load the **train-test split function** from `sklearn`, which allows us to divide the dataset into **training** and **testing** sets. We also define a variable, **`random_state`**, which sets the seed for generating random values. This ensures that we always get the **same train-test split** every time the code is executed.\n",
    "\n",
    "Pay attention to the parameters:\n",
    "- **`test_size`**: Specifies the percentage of data allocated for testing.\n",
    "- **`stratify`**: Ensures that the class distribution is maintained across both train and test sets."
   ]
  },
  {
   "cell_type": "code",
   "execution_count": null,
   "id": "44a7cb1e-4c0b-4d0a-be99-26bf3df6b262",
   "metadata": {
    "colab": {
     "base_uri": "https://localhost:8080/"
    },
    "executionInfo": {
     "elapsed": 325,
     "status": "ok",
     "timestamp": 1747639780367,
     "user": {
      "displayName": "Miquel Mayor Tortosa",
      "userId": "02292380127990734589"
     },
     "user_tz": -120
    },
    "id": "44a7cb1e-4c0b-4d0a-be99-26bf3df6b262",
    "outputId": "86fc07b5-ea18-43ed-f0ca-55c254a9a82c"
   },
   "outputs": [
    {
     "name": "stdout",
     "output_type": "stream",
     "text": [
      "Training set size: (398, 30)\n",
      "Test set size: (171, 30)\n"
     ]
    }
   ],
   "source": [
    "from sklearn.model_selection import train_test_split\n",
    "# Set random seed\n",
    "random_state = 2024\n",
    "\n",
    "# Perform train-test split (70% training, 30% testing)\n",
    "X_train, X_test, Y_train, Y_test = train_test_split(\n",
    "    X, Y,\n",
    "    test_size=0.3,      # 30% test data\n",
    "    stratify=Y,\n",
    "    random_state=random_state\n",
    ")\n",
    "\n",
    "# Print dataset sizes\n",
    "print(\"Training set size:\", X_train.shape)\n",
    "print(\"Test set size:\", X_test.shape)"
   ]
  },
  {
   "cell_type": "markdown",
   "id": "1d61acf8-4e20-4998-bd09-a41fe7448306",
   "metadata": {
    "id": "1d61acf8-4e20-4998-bd09-a41fe7448306"
   },
   "source": [
    "![hacker.png](data:image/png;base64,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)\n",
    "\n",
    "<br>\n",
    "<span style=\"color:blue\"><b>Exercise</b></span>.\n",
    "\n",
    "a) Show the number of samples in each class for train and test sets. Make a Barplot where you compare the number of samples per class, for each of the train and test sets.\n",
    "\n",
    "b) Check the proportions of samples per class has been preserved in the train and test set. Compare these to the original, unsplit data."
   ]
  },
  {
   "cell_type": "markdown",
   "id": "1353a350-05c6-4c9f-8728-50628ef6c082",
   "metadata": {
    "id": "1353a350-05c6-4c9f-8728-50628ef6c082"
   },
   "source": [
    "# Binary Classifications"
   ]
  },
  {
   "cell_type": "markdown",
   "id": "adb88870-a24a-42ac-ac46-024611bd6000",
   "metadata": {
    "id": "adb88870-a24a-42ac-ac46-024611bd6000"
   },
   "source": [
    "## Logistic Regression\n",
    "\n",
    "We are going to use the **Logistic Regression** we have seen in the slides to train a classifier that distinguishes between the 'Benign' and 'Malignant' samples.\n",
    "\n",
    "This is already implemented in the `LogisticRegression` of `sklearn`."
   ]
  },
  {
   "cell_type": "code",
   "execution_count": null,
   "id": "b1311744-7cb9-4d93-804f-b82c35460169",
   "metadata": {
    "id": "b1311744-7cb9-4d93-804f-b82c35460169"
   },
   "outputs": [],
   "source": [
    "from sklearn.linear_model import LogisticRegression"
   ]
  },
  {
   "cell_type": "markdown",
   "id": "19628717-2f21-4164-a71f-3d6f323d686a",
   "metadata": {
    "id": "19628717-2f21-4164-a71f-3d6f323d686a"
   },
   "source": [
    "Once we know which model we want to use, we need to initialize it. This step creates an empty model with a priori random parameters. To initialize the model, we just call it as if it were a function `LinearRegression()` and we give it a shortcut-name, usually `model`:"
   ]
  },
  {
   "cell_type": "code",
   "execution_count": null,
   "id": "52c73dbb-9a1d-49d9-8ea8-7aa1a332f2ad",
   "metadata": {
    "id": "52c73dbb-9a1d-49d9-8ea8-7aa1a332f2ad"
   },
   "outputs": [],
   "source": [
    "logistic_model = LogisticRegression(max_iter=10_000)"
   ]
  },
  {
   "cell_type": "markdown",
   "id": "8cba3be2-ef6a-4834-834f-2a95001636a9",
   "metadata": {
    "id": "8cba3be2-ef6a-4834-834f-2a95001636a9"
   },
   "source": [
    "Remember what's the scheme of thought in Machine Learning?\n",
    "\n",
    "1. Perform an estimation\n",
    "2. Minimize the estimation error/loss\n",
    "3. Quality control\n",
    "\n",
    "The method `.fit()` basically performs the first two steps. In supervised learning, we need to pass two arguments to it:\n",
    "* the data (x values)\n",
    "* its labels (in the case of a regression, the 'labels' are the y values)\n",
    "\n",
    "Running the fit method we estimate the optimal parameters for the linear equation."
   ]
  },
  {
   "cell_type": "code",
   "execution_count": null,
   "id": "61a1b2ec-a805-4938-9bd3-842c2ecc3387",
   "metadata": {
    "id": "61a1b2ec-a805-4938-9bd3-842c2ecc3387"
   },
   "outputs": [],
   "source": [
    "logistic_model.fit(X_train, Y_train.squeeze()) # We use squeeze so the model will not complain about data shapes"
   ]
  },
  {
   "cell_type": "code",
   "execution_count": null,
   "id": "e29c88f4-0e37-465c-a1ee-e352f33860b9",
   "metadata": {
    "id": "e29c88f4-0e37-465c-a1ee-e352f33860b9"
   },
   "outputs": [],
   "source": [
    "# Evaluate the model\n",
    "Y_pred = logistic_model.predict(X_test)"
   ]
  },
  {
   "cell_type": "markdown",
   "id": "860fe27d-b61a-4832-8e84-4f0c7a39f694",
   "metadata": {
    "id": "860fe27d-b61a-4832-8e84-4f0c7a39f694"
   },
   "source": [
    "The last step is to evaluate our model predictions. To do so we are going to introduce the confusion matrix. This is a table that summarizes the performance of a classification model by comparing the predicted labels with the true labels. The confusion matrix has four entries:\n",
    "* True Positives (TP): the number of instances that were correctly predicted as positive.\n",
    "* True Negatives (TN): the number of instances that were correctly predicted as negative.\n",
    "* False Positives (FP): the number of instances that were incorrectly predicted as positive.\n",
    "* False Negatives (FN): the number of instances that were incorrectly predicted as negative.\n",
    "\n",
    "The confusion matrix is a very useful tool to evaluate the performance of a classification model. It allows us to see how many instances were correctly classified and how many were misclassified. It also allows us to see which classes are being confused with each other.\n"
   ]
  },
  {
   "cell_type": "code",
   "execution_count": null,
   "id": "d735c151-0b63-490f-bb8c-13042eb3ff19",
   "metadata": {
    "id": "d735c151-0b63-490f-bb8c-13042eb3ff19"
   },
   "outputs": [],
   "source": [
    " # Confusion matrix:\n",
    "from sklearn.metrics import confusion_matrix\n",
    "import matplotlib.pyplot as plt\n",
    "import seaborn as sns\n",
    "\n",
    "confusion = confusion_matrix(Y_test, Y_pred,)\n",
    "\n",
    "# Plot confusion matrix\n",
    "plt.figure(figsize=(8, 6))\n",
    "sns.heatmap(confusion, annot=True, fmt='d', cmap='Blues', cbar=False,\n",
    "            xticklabels=['Benign', 'Malignant'], yticklabels=['Benign', 'Malignant'])\n",
    "plt.xlabel('Predicted')\n",
    "plt.ylabel('True')\n",
    "plt.title('Confusion Matrix')\n",
    "plt.show()"
   ]
  },
  {
   "cell_type": "markdown",
   "id": "17b6878c-4dcd-4b7d-a705-5813e07a583b",
   "metadata": {
    "id": "17b6878c-4dcd-4b7d-a705-5813e07a583b"
   },
   "source": [
    "The way the confusion matrix is organized depends on convention. `sklearn` documentation tells us that the results can be extracted as follows:"
   ]
  },
  {
   "cell_type": "code",
   "execution_count": null,
   "id": "c4c79249-6810-48a6-9746-9d8cf0a55b46",
   "metadata": {
    "id": "c4c79249-6810-48a6-9746-9d8cf0a55b46"
   },
   "outputs": [],
   "source": [
    "tn, fp, fn, tp = confusion.ravel()\n",
    "print(f\"True Negatives: {tn}\")\n",
    "print(f\"False Positives: {fp}\")\n",
    "print(f\"False Negatives: {fn}\")\n",
    "print(f\"True Positives: {tp}\")"
   ]
  },
  {
   "cell_type": "markdown",
   "id": "3cbb984f-c457-4f1d-ba5b-ee9d394a4ac0",
   "metadata": {
    "id": "3cbb984f-c457-4f1d-ba5b-ee9d394a4ac0"
   },
   "source": [
    "From these values, we can use the formulas of the metrics we are interested in. The most common metrics for binary classification are:\n",
    "* **Accuracy**: the proportion of correct predictions (TP + TN) / (TP + TN + FP + FN)\n",
    "* **Precision**: the proportion of true positive predictions (TP) / (TP + FP)\n",
    "* **Recall**: the proportion of true positive predictions (TP) / (TP + FN)\n",
    "* **F1 Score**: the harmonic mean of precision and recall (2 * (precision * recall) / (precision + recall))\n"
   ]
  },
  {
   "cell_type": "code",
   "execution_count": null,
   "id": "d483a491-6b3c-4687-83a1-0ecc37a63da2",
   "metadata": {
    "id": "d483a491-6b3c-4687-83a1-0ecc37a63da2"
   },
   "outputs": [],
   "source": [
    "precision = tp / (tp + fp)\n",
    "recall = tp / (tp + fn)\n",
    "f1_score = 2 * (precision * recall) / (precision + recall)\n",
    "accuracy = (tp + tn) / (tp + tn + fp + fn)\n",
    "print(f\"Precision: {precision:.2f}\")\n",
    "print(f\"Recall: {recall:.2f}\")\n",
    "print(f\"F1 Score: {f1_score:.2f}\")\n",
    "print(f\"Accuracy: {accuracy:.2f}\")"
   ]
  },
  {
   "cell_type": "markdown",
   "id": "a5b0651e-2364-4138-b968-3424f0f6f958",
   "metadata": {
    "id": "a5b0651e-2364-4138-b968-3424f0f6f958"
   },
   "source": [
    "A much faster way to get the most important metrics is to use the `classification_report` function from sklearn. It gives us the precision, recall and f1-score for each class, as well as the support (number of instances) for each class, the model's accuracy and the macro and weighted averages of the metrics."
   ]
  },
  {
   "cell_type": "code",
   "execution_count": null,
   "id": "b4d318df-0f99-4958-b1c3-bdf8fb085187",
   "metadata": {
    "id": "b4d318df-0f99-4958-b1c3-bdf8fb085187"
   },
   "outputs": [],
   "source": [
    "from sklearn.metrics import classification_report\n",
    "report = classification_report(Y_test, Y_pred)\n",
    "print(report)"
   ]
  },
  {
   "cell_type": "markdown",
   "id": "e6e338da-59bd-4668-8051-03b8a60bec43",
   "metadata": {
    "id": "e6e338da-59bd-4668-8051-03b8a60bec43"
   },
   "source": [
    "![who.png](data:image/png;base64,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)\n",
    "\n",
    "**Question**. In the classification report, there is a pair of metrics for every class, e.g., there are two precisions, one for the Benign tumors and one for the Malignant tumors. What is the difference between the two? Think in terms of the confusion matrix."
   ]
  },
  {
   "cell_type": "markdown",
   "id": "f348d6e5-152d-4090-ac92-4ec21e93cead",
   "metadata": {
    "id": "f348d6e5-152d-4090-ac92-4ec21e93cead"
   },
   "source": [
    "## Decision Tree Classifier\n",
    "\n",
    "Next, we will train and evaluate a **Decision Tree Classifier**, a popular and interpretable model for classification tasks. In Scikit-learn, this algorithm is available through the `DecisionTreeClassifier` class. You can refer to the official documentation [here](https://scikit-learn.org/1.3/modules/generated/sklearn.tree.DecisionTreeClassifier.html) for more details on available parameters and functionality.\n",
    "\n",
    "To ensure reproducibility of results, we will set a fixed `random_state`. This allows us to consistently obtain the same tree structure and performance metrics each time the code is run, which is especially useful when tuning hyperparameters or comparing models."
   ]
  },
  {
   "cell_type": "code",
   "execution_count": null,
   "id": "c2f230fa-d2a5-4ca8-8de7-e9c2643596de",
   "metadata": {
    "id": "c2f230fa-d2a5-4ca8-8de7-e9c2643596de"
   },
   "outputs": [],
   "source": [
    "from sklearn.tree import DecisionTreeClassifier\n",
    "from sklearn import metrics\n",
    "\n",
    "# Initialize and train Decision Tree\n",
    "dt = DecisionTreeClassifier(random_state=random_state)\n",
    "dt.fit(X_train, Y_train)\n",
    "\n",
    "# Make predictions and evaluate\n",
    "dt_prediction = dt.predict(X_test)\n",
    "print('Decision Tree accuracy = {:0.3f}'.format(metrics.accuracy_score(Y_test, dt_prediction)))"
   ]
  },
  {
   "cell_type": "markdown",
   "id": "c8a26bca-cca5-4783-97d9-7a0271fb57dc",
   "metadata": {
    "id": "c8a26bca-cca5-4783-97d9-7a0271fb57dc"
   },
   "source": [
    "One of the greatest advantages of decision trees is that they provide a set of **interpretable rules** that help us understand how predictions are made. Unlike many machine learning models, decision trees do not operate as black boxes; instead, they offer a transparent logic based on feature thresholds and conditions.\n",
    "\n",
    "Additionally, decision trees can be **visualized**, either in text or graphical form, making them particularly useful for explanation and communication of model behavior. As a first step, we will create a **text-based representation** of the decision tree using Scikit-learn’s `tree.export_text` function. This will allow us to view the hierarchy of decisions and understand how the model splits data based on different features."
   ]
  },
  {
   "cell_type": "code",
   "execution_count": null,
   "id": "a3f2ab66-c184-4760-93f6-0f24ae5a0f35",
   "metadata": {
    "id": "a3f2ab66-c184-4760-93f6-0f24ae5a0f35"
   },
   "outputs": [],
   "source": [
    "from sklearn import tree\n",
    "\n",
    "text_representation = tree.export_text(dt, feature_names = data.columns.tolist())\n",
    "print(text_representation)\n"
   ]
  },
  {
   "cell_type": "markdown",
   "id": "3775ac55-16cc-4452-a6df-7a99aa93fd92",
   "metadata": {
    "id": "3775ac55-16cc-4452-a6df-7a99aa93fd92"
   },
   "source": [
    "### Interpreting the Decision Tree Classifier\n",
    "\n",
    "The decision tree above uses a series of binary decisions based on different clinical features to classify tumors as either **benign (B)** or **malignant (M)**. At each node, the tree checks whether a specific feature is below or above a threshold value and splits accordingly. The process continues until a terminal node is reached, which provides the predicted class.\n",
    "\n",
    "The first split is based on the `area3` (worst area) feature. If `area3` is less than or equal to 884.55, the tree follows the left branch; otherwise, it goes right. This shows that `area3` is considered a very important feature in determining malignancy.\n",
    "\n",
    "Subsequent splits refine the classification using additional features such as `concave_points3`, `area2`, `smoothness2`, and `texture3`. For example, if `area3 <= 884.55` and `concave_points3 <= 0.13`, the tree checks `area2`. If `area2 <= 36.47` and `smoothness2 <= 0`, then it evaluates `texture3` to make a final decision.\n",
    "\n",
    "Interestingly, in several branches, features like `symmetry3`, `radius3`, `texture3` are used to guide the decision.\n",
    "\n",
    "On the other side of the tree (when `area3t > 884.55`), decisions are influenced by `texture1`, `symmetry1`, `perimeter2`, and `smoothness3`. These deeper branches reflect more nuanced conditions where combinations of features are used to distinguish between benign and malignant diagnoses.\n",
    "\n",
    "Overall, the decision tree provides a transparent and interpretable structure that mimics clinical decision-making logic. Each path from the root to a leaf represents a set of rules that can be used to explain why a particular diagnosis was made.\n"
   ]
  },
  {
   "cell_type": "code",
   "execution_count": null,
   "id": "c7222bd8-306e-4054-aae8-5b0501d3097a",
   "metadata": {
    "id": "c7222bd8-306e-4054-aae8-5b0501d3097a"
   },
   "outputs": [],
   "source": [
    "import matplotlib.pyplot as plt\n",
    "\n",
    "# Define the feature names\n",
    "feature_names = data.columns.tolist()\n",
    "\n",
    "# Plot the decision tree\n",
    "plt.figure(figsize=(25, 20))\n",
    "_ = tree.plot_tree(\n",
    "    dt,\n",
    "    feature_names=feature_names,\n",
    "    class_names=[\"B\", \"M\"],\n",
    "    filled=True,\n",
    "    rounded=True,\n",
    "    fontsize=10\n",
    ")\n",
    "\n",
    "plt.title(\"Decision Tree Visualization (Breast Cancer Diagnosis)\", fontsize=16)\n",
    "plt.show()\n",
    "\n"
   ]
  },
  {
   "cell_type": "markdown",
   "id": "d3f0a092-f495-4a35-ba78-2abf9b1d1239",
   "metadata": {
    "id": "d3f0a092-f495-4a35-ba78-2abf9b1d1239"
   },
   "source": [
    "### Decision Tree Overview\n",
    "\n",
    "The visualization above represents a decision tree classifier trained to predict whether a breast tumor is **benign (B)** or **malignant (M)** using features from the Breast Cancer Wisconsin (Diagnostic) dataset. Each internal node in the tree represents a decision based on a single feature threshold—such as `area3`, `concave_points3`, or `texture1`—and the tree splits the data accordingly to separate the classes more clearly at each level.\n",
    "\n",
    "The tree starts with `area3` at the root, indicating it is the most important feature for the initial split. As we move down the tree, additional features are used to refine the decision. At each node, the `gini` value shows the impurity of the split (with lower values indicating purer groups), while `samples` denotes the number of training examples at that node. The `value` array shows the count of benign and malignant cases at that node, and the predicted class is indicated at the bottom.\n",
    "\n",
    "Nodes shaded in **orange** predict **benign** tumors, while those in **blue** predict **malignant** tumors. This color-coding provides a quick visual sense of the classification outcome. Overall, this tree offers a transparent, interpretable structure that allows us to follow the sequence of decisions leading to each classification.\n"
   ]
  },
  {
   "cell_type": "markdown",
   "id": "b201f8fd-a222-47fe-8db1-b6fc331ca4de",
   "metadata": {
    "id": "b201f8fd-a222-47fe-8db1-b6fc331ca4de"
   },
   "source": [
    "Next, we can graphically represent the values of some of the variables used in the initial splits of the decision tree.  \n",
    "This will help us observe how these features differ between the two classes we aim to classify.\n"
   ]
  },
  {
   "cell_type": "code",
   "execution_count": null,
   "id": "73c19dce-dedc-4326-bc44-3569b13f118f",
   "metadata": {
    "id": "73c19dce-dedc-4326-bc44-3569b13f118f"
   },
   "outputs": [],
   "source": [
    "# Boxplot of area_worst grouped by diagnosis\n",
    "data_p = pd.concat([data,y],axis=1)\n",
    "data_p.boxplot(column='area3',by='Diagnosis', figsize=(6, 6))\n",
    "\n",
    "plt.title('Boxplot of Area Worst by Diagnosis')\n",
    "plt.suptitle('')\n",
    "plt.xlabel('Diagnosis')\n",
    "plt.ylabel('Area Worst')\n",
    "plt.show()"
   ]
  },
  {
   "cell_type": "markdown",
   "id": "448a9079-c42e-4bd8-8bfb-e577a6c58b0a",
   "metadata": {
    "id": "448a9079-c42e-4bd8-8bfb-e577a6c58b0a"
   },
   "source": [
    "The boxplot above shows the distribution of the `area3` feature for each tumor diagnosis class (benign or malignant). This visualization helps compare how this feature varies across the two groups. Typically, malignant tumors tend to have higher `area3` values, and this plot can visually confirm whether that's reflected in the dataset.\n",
    "\n",
    "The boxplot shows that the `area_worst` values are generally **higher in malignant (M) tumors** compared to benign (B) ones. Malignant tumors have a wider spread and more outliers, indicating greater variability and typically larger tumor areas. In contrast, benign tumors tend to have smaller and more tightly clustered `area3` values. This suggests that `area3` is a useful feature for distinguishing between the two classes."
   ]
  },
  {
   "cell_type": "markdown",
   "id": "323e83f6-2654-4919-8b77-65aa8d0fb788",
   "metadata": {
    "id": "323e83f6-2654-4919-8b77-65aa8d0fb788"
   },
   "source": [
    "### Controlling Overfitting in the Decision Tree\n",
    "\n",
    "If we take a closer look at the previously trained decision tree, we can observe that some of the leaf nodes contain very few samples—sometimes even a single one. In fact, if we evaluate the model’s performance on the training set, we see that it achieves a perfect accuracy score of 1.0. This suggests that the model has likely **overfit** the training data by memorizing specific examples rather than learning generalizable patterns."
   ]
  },
  {
   "cell_type": "code",
   "execution_count": null,
   "id": "2ca1b8c7-d7a5-4a8c-a1b3-15e06f735857",
   "metadata": {
    "id": "2ca1b8c7-d7a5-4a8c-a1b3-15e06f735857"
   },
   "outputs": [],
   "source": [
    "# Evaluate Decision Tree on training data\n",
    "dt_prediction_train = dt.predict(X_train)\n",
    "print('Decision Tree accuracy (train) = ', metrics.accuracy_score(Y_train, dt_prediction_train))"
   ]
  },
  {
   "cell_type": "markdown",
   "id": "5005c45c-36e4-4d36-8400-12f8f1ec642f",
   "metadata": {
    "id": "5005c45c-36e4-4d36-8400-12f8f1ec642f"
   },
   "source": [
    "This means that the tree has created very specific rules that fit the training data well, but may not generalize effectively to new, unseen data — a classic case of overfitting. When a decision tree memorizes patterns too closely tied to the training set, it can perform poorly on test data.\n",
    "\n",
    "To mitigate overfitting, we can control how deep and complex the tree is allowed to grow. Scikit-learn provides several hyperparameters that can be adjusted to prevent over-complex trees. These include `max_depth`, which limits how deep the tree can go; `min_samples_split`, which sets the minimum number of samples required to split a node; and `min_samples_leaf`, which ensures that leaf nodes contain a minimum number of samples.\n",
    "\n",
    "Another option is `ccp_alpha`, a parameter used for cost-complexity pruning. By tuning these hyperparameters, we can build more robust trees that generalize better and provide more stable predictions across new data."
   ]
  },
  {
   "cell_type": "code",
   "execution_count": null,
   "id": "5c80c566-8c76-4751-a56a-568d4c86877b",
   "metadata": {
    "id": "5c80c566-8c76-4751-a56a-568d4c86877b"
   },
   "outputs": [],
   "source": [
    "from sklearn.tree import DecisionTreeClassifier\n",
    "from sklearn import metrics\n",
    "\n",
    "# Train Decision Tree with pruning (min_samples_leaf = 20)\n",
    "dt = DecisionTreeClassifier(random_state=random_state, min_samples_leaf=20)\n",
    "dt.fit(X_train, Y_train)\n",
    "\n",
    "# Evaluate on test set\n",
    "dt_prediction = dt.predict(X_test)\n",
    "print('Decision Tree accuracy (test) = {:0.3f}'.format(metrics.accuracy_score(Y_test, dt_prediction)))\n",
    "\n",
    "# Evaluate on training set\n",
    "dt_prediction_train = dt.predict(X_train)\n",
    "print('Decision Tree accuracy (train) = {:0.3f}'.format(metrics.accuracy_score(Y_train, dt_prediction_train)))"
   ]
  },
  {
   "cell_type": "markdown",
   "id": "40228392-f54d-4659-b5ac-dee9481ada8a",
   "metadata": {
    "id": "40228392-f54d-4659-b5ac-dee9481ada8a"
   },
   "source": [
    "##### Model Performance Observation\n",
    "\n",
    "The accuracy of the pruned decision tree is very similar to that of the original, more complex tree.  \n",
    "In this case, the pruned tree achieved an accuracy of **0.924 on the test set** and **0.940 on the training set**.  \n",
    "\n",
    "This indicates that the simpler model maintains strong performance while likely improving generalization.  \n",
    "Let’s now examine the structure of this simplified tree.\n"
   ]
  },
  {
   "cell_type": "code",
   "execution_count": null,
   "id": "600160e7-364d-4c6b-b552-3e596f6cd4a3",
   "metadata": {
    "id": "600160e7-364d-4c6b-b552-3e596f6cd4a3"
   },
   "outputs": [],
   "source": [
    "from sklearn import tree\n",
    "import matplotlib.pyplot as plt\n",
    "\n",
    "# Use X_train to extract the actual feature names used in the model\n",
    "feature_names = X_train.columns.tolist()\n",
    "\n",
    "# Export the decision tree as text\n",
    "text_representation = tree.export_text(dt, feature_names=feature_names)\n",
    "print(text_representation)\n",
    "\n",
    "# Plot the decision tree\n",
    "fig = plt.figure(figsize=(25, 20))\n",
    "_ = tree.plot_tree(\n",
    "    dt,\n",
    "    feature_names=feature_names,\n",
    "    class_names=[\"B\", \"M\"],\n",
    "    filled=True\n",
    ")\n",
    "\n",
    "# Optional: Save the plot\n",
    "# fig.savefig(\"figures/decision_tree_pruned.png\")"
   ]
  },
  {
   "cell_type": "markdown",
   "id": "31c2d66b-e7d7-4aa6-b454-1f7eb79b6c0d",
   "metadata": {
    "id": "31c2d66b-e7d7-4aa6-b454-1f7eb79b6c0d"
   },
   "source": [
    "The decision tree above represents a classification model trained to distinguish between benign (B) and malignant (M) breast tumors. It begins by evaluating the feature `area3`, which is used as the root decision because it's the most informative for the initial split. If a tumor's `area3` is less than or equal to 884.55, the model generally predicts a benign outcome. If it is greater, the tree considers `concavity1` to determine whether the tumor is more likely malignant.\n",
    "\n",
    "As we move through the left side of the tree (where `area3` is low), we see further splits based on `concave_points3`, `area2`, and `texture3`. These conditions consistently lead to predictions of benign tumors, supported by low gini impurity scores and a strong dominance of class B samples in the nodes.\n",
    "\n",
    "On the right side of the tree (when `area3` is high), the model splits based on `concavity1`, identifying malignant tumors with high confidence. One of the terminal nodes shows a pure group of 111 malignant cases (with gini = 0), which strongly supports the predictive power of this branch.\n",
    "\n",
    "Each node in the tree displays key information: the gini impurity (which measures how mixed the classes are), the number of samples that reach the node, the distribution of benign and malignant cases (`value`), and the predicted class. Nodes shaded in orange predict benign, while blue nodes predict malignant.\n",
    "."
   ]
  },
  {
   "cell_type": "code",
   "execution_count": null,
   "id": "44fd20b5-bfa8-4f3b-a14d-dd385c29f0fa",
   "metadata": {
    "id": "44fd20b5-bfa8-4f3b-a14d-dd385c29f0fa"
   },
   "outputs": [],
   "source": [
    "# Predict class probabilities on the test set\n",
    "dt_prediction_probabilities = dt.predict_proba(X_test)\n",
    "\n",
    "# Print class labels\n",
    "print('Classes in the decision tree model: ', dt.classes_)\n",
    "\n",
    "# Print predicted probabilities for class 1 (e.g., Recurred = Yes)\n",
    "print('Predicted probabilities for class 1:\\n', dt_prediction_probabilities[:, 1])"
   ]
  },
  {
   "cell_type": "code",
   "execution_count": null,
   "id": "6c6d15bf-e5e6-4cbf-bc08-5a91775481e7",
   "metadata": {
    "id": "6c6d15bf-e5e6-4cbf-bc08-5a91775481e7"
   },
   "outputs": [],
   "source": []
  },
  {
   "cell_type": "markdown",
   "id": "e03eaeb8-fe8f-421a-9be7-9791b915d1f8",
   "metadata": {
    "id": "e03eaeb8-fe8f-421a-9be7-9791b915d1f8"
   },
   "source": [
    "# Multiple Classification\n",
    "\n",
    "In this section, we are going to use a proteomics dataset that contains the \"mass-spectrometry-based proteomic and phosphoproteomic analyses of 105 genomically annotated breast cancers\" (from Mertins, et al. Nature (2016). https://doi.org/10.1038/nature18003).\n",
    "\n",
    "Breast cancer is a heterogeneous disease with 5 known subtypes according to their molecular characteristics. These have different prevalences and different prognoses, so it is important to classify them correctly if we want to give the correct treatment to the patients. The subtypes are summarized in the table below:\n",
    "\n",
    "| Subtypes        | Prevalence | Prognosis            |\n",
    "|-----------------|------------|----------------------|\n",
    "| **Luminal A**   | ~ 70%      | Best                 |\n",
    "| **Luminal B**       | 10-20%     | Worse than Luminal A |\n",
    "| **HER2**            | 5-15%      | Intermediate         |\n",
    "| **Triple Negative** | 15-20%     | Worst                |\n",
    "| **Normal-like**     | Rare       | ?                    |\n",
    "\n",
    "The dataset we are going to use is available from [Kaggle](https://www.kaggle.com). We can use the `kagglehub` package to download it directly from the notebook, which we need to install:"
   ]
  },
  {
   "cell_type": "code",
   "execution_count": null,
   "id": "98dc981a-6c3e-46bd-bc5d-f1ea6aa3d7ab",
   "metadata": {
    "id": "98dc981a-6c3e-46bd-bc5d-f1ea6aa3d7ab"
   },
   "outputs": [],
   "source": [
    "! pip install kagglehub"
   ]
  },
  {
   "cell_type": "markdown",
   "id": "394bc39c-2e39-4b5b-9811-bde7f3416b12",
   "metadata": {
    "id": "394bc39c-2e39-4b5b-9811-bde7f3416b12"
   },
   "source": [
    "Now we can proceed to download the available data:\n",
    "* `PAM50_proteins.csv`: contains a list of 50 gene symbols commonly used to determine the molecular subtypes of breast cancer. Each of these genes has\n",
    "* `77_cancer_proteomes_CPTAC_itraq.csv`: contains the proteomic data of the breast cancer patients. The first three columns are the gene symbols, the protein names and the Uniprot IDs. The rest of the columns are the patients' IDs.\n",
    "* `clinical_data_breast_cancer.csv`: contains the clinical data of the patients, including the subtype diagnosis."
   ]
  },
  {
   "cell_type": "code",
   "execution_count": null,
   "id": "440d56f0-cdb4-4545-96e3-099055d5c878",
   "metadata": {
    "id": "440d56f0-cdb4-4545-96e3-099055d5c878"
   },
   "outputs": [],
   "source": [
    "# In this cell, we download and import the data we are going to use in this exercise:\n",
    "import os\n",
    "import kagglehub\n",
    "import pandas as pd\n",
    "\n",
    "# Download latest version\n",
    "path = kagglehub.dataset_download(\"piotrgrabo/breastcancerproteomes\")\n",
    "\n",
    "print(\"Path to dataset files:\", path)\n",
    "\n",
    "pam50proteins = pd.read_csv(os.path.join(path,'PAM50_proteins.csv'))\n",
    "proteomes = pd.read_csv(os.path.join(path,'77_cancer_proteomes_CPTAC_itraq.csv'))\n",
    "clinical = pd.read_csv(os.path.join(path,'clinical_data_breast_cancer.csv'))\n",
    "clinical.index=clinical['Complete TCGA ID']\n",
    "clinical.drop('Complete TCGA ID',inplace=True,axis=1)\n",
    "print(pam50proteins.shape,proteomes.shape,clinical.shape)"
   ]
  },
  {
   "cell_type": "markdown",
   "id": "05be2577-b6ac-44da-8088-0e8dfeb788e5",
   "metadata": {
    "id": "05be2577-b6ac-44da-8088-0e8dfeb788e5"
   },
   "source": [
    "We are going to select the coincidences in gene symbols and patient IDs across the three datasets to get a dataset we can use for classification.\n"
   ]
  },
  {
   "cell_type": "code",
   "execution_count": null,
   "id": "1a9c3fce-6203-4475-a9b5-aaeb565bd60a",
   "metadata": {
    "id": "1a9c3fce-6203-4475-a9b5-aaeb565bd60a"
   },
   "outputs": [],
   "source": [
    "# Get the PAM50 genes that are also present in the proteomes dataset:\n",
    "gene_coincidences = proteomes.gene_symbol.isin(pam50proteins.GeneSymbol)\n",
    "pam_proteomes=proteomes.loc[gene_coincidences]\n",
    "\n",
    "# Get the dataset of proteomes with the patientes whose clinical information is available.\n",
    "# The following two lines adapt the patient names from the clinical and proteome.\n",
    "# This way, they are directly comparable\n",
    "clinical.index=[i.removeprefix('TCGA-') for i in clinical.index]\n",
    "proteome_patients = [i.split('.')[0] for i in pam_proteomes.columns[3:]]\n",
    "pam_proteomes.columns = pam_proteomes.columns[:3].to_list() + proteome_patients\n",
    "\n",
    "# Get the patients that are available on both datasets:\n",
    "#patients = clinical.index[clinical.index.isin(proteomes.columns)]\n",
    "patients = clinical.index[clinical.index.isin(proteome_patients)]\n",
    "\n",
    "# Finally, get the datasets of available proteomes and clinical data:\n",
    "available_proteomes=pam_proteomes[patients]\n",
    "available_patients = clinical.loc[available_proteomes.columns]\n",
    "\n",
    "# Check the number of patients coincide:\n",
    "print(available_proteomes.shape,available_patients.shape)"
   ]
  },
  {
   "cell_type": "markdown",
   "id": "555d95bc-3cb9-49b9-a5a8-c08ff90e9383",
   "metadata": {
    "id": "555d95bc-3cb9-49b9-a5a8-c08ff90e9383"
   },
   "source": [
    "In the end, we have the information of 40 genes and 80 patients. We can check the subgroup of the available patients:"
   ]
  },
  {
   "cell_type": "code",
   "execution_count": null,
   "id": "635de5eb-1c06-4b6b-a2cb-7350dc74392e",
   "metadata": {
    "id": "635de5eb-1c06-4b6b-a2cb-7350dc74392e"
   },
   "outputs": [],
   "source": [
    "available_patients['PAM50 mRNA'].value_counts()"
   ]
  },
  {
   "cell_type": "markdown",
   "id": "9dfbd79f-7cc7-466a-8a54-315cde04c7a5",
   "metadata": {
    "id": "9dfbd79f-7cc7-466a-8a54-315cde04c7a5"
   },
   "source": [
    "## Random Forest\n",
    "\n",
    "Now we can proceed to the classification. We are going to use a Random Forest Classifier, available in `sklearn`, just like the Logistic Regression model we previously used. This is very good news, because once you know how to use a model in `sklearn`, you can use it in any other model. The only thing that changes is the name of the class and the parameters you can set. The rest is the same! Once we have our data split into a train and a test set, we can use the same steps as before:\n",
    "1. initialize the model,\n",
    "2. fit the model with the training data,\n",
    "2. predict the labels for the test data, and\n",
    "3. evaluate the performance of the model."
   ]
  },
  {
   "cell_type": "code",
   "execution_count": null,
   "id": "88cf90d2-5db6-40d0-aaf6-c974a6c9bd10",
   "metadata": {
    "id": "88cf90d2-5db6-40d0-aaf6-c974a6c9bd10"
   },
   "outputs": [],
   "source": [
    "# We select the data X for classification and the labels y:\n",
    "X = available_proteomes\n",
    "y = available_patients['PAM50 mRNA']\n",
    "# We want to make sure the first dimension of X is the number of samples (patients):\n",
    "if X.shape[0]!=y.shape[0]:\n",
    "  X = X.T\n",
    "# Check the dimensions of the data:\n",
    "print(X.shape,y.shape)"
   ]
  },
  {
   "cell_type": "code",
   "execution_count": null,
   "id": "6034925d-002d-4814-bc0d-8a93d5ff4c84",
   "metadata": {
    "id": "6034925d-002d-4814-bc0d-8a93d5ff4c84"
   },
   "outputs": [],
   "source": [
    "# Split data into training and test sets.\n",
    "from sklearn.model_selection import train_test_split\n",
    "X_train, X_test, y_train, y_test = train_test_split(X, y, test_size=0.2, random_state=42,stratify=y)\n",
    "[print(i.shape) for i in [X_train, X_test, y_train, y_test]];"
   ]
  },
  {
   "cell_type": "code",
   "execution_count": null,
   "id": "ddc4e694-e4ed-438a-bb8a-c4f77d6a49ff",
   "metadata": {
    "id": "ddc4e694-e4ed-438a-bb8a-c4f77d6a49ff"
   },
   "outputs": [],
   "source": [
    "# Import the RandomForestClassifier\n",
    "from sklearn.ensemble import RandomForestClassifier\n",
    "# Initialize your model\n",
    "model = RandomForestClassifier(random_state=42)"
   ]
  },
  {
   "cell_type": "code",
   "execution_count": null,
   "id": "642f8918-3f6f-4fb8-a9a6-4895b422ca87",
   "metadata": {
    "id": "642f8918-3f6f-4fb8-a9a6-4895b422ca87"
   },
   "outputs": [],
   "source": [
    "# Fit to training data\n",
    "model.fit(X_train, y_train)"
   ]
  },
  {
   "cell_type": "code",
   "execution_count": null,
   "id": "a1a72979-cb0c-4992-b111-252add1b3910",
   "metadata": {
    "id": "a1a72979-cb0c-4992-b111-252add1b3910"
   },
   "outputs": [],
   "source": [
    "# Predict on test set\n",
    "y_pred = model.predict(X_test)"
   ]
  },
  {
   "cell_type": "markdown",
   "id": "cc0be5ad-fd56-4109-acdc-b34a4891430a",
   "metadata": {
    "id": "cc0be5ad-fd56-4109-acdc-b34a4891430a"
   },
   "source": [
    "Now that we have several classes, the `classification_report` compares each class (the positive class) against all others grouped together (the negative class)."
   ]
  },
  {
   "cell_type": "code",
   "execution_count": null,
   "id": "01ddb82a-2a5c-4cef-9702-5ddad9fcab0f",
   "metadata": {
    "id": "01ddb82a-2a5c-4cef-9702-5ddad9fcab0f"
   },
   "outputs": [],
   "source": [
    "from sklearn.metrics import classification_report\n",
    "print(classification_report(y_test, y_pred))"
   ]
  },
  {
   "cell_type": "markdown",
   "id": "1c8c3004-3aef-4c5a-bfdc-db4cf0589461",
   "metadata": {
    "id": "1c8c3004-3aef-4c5a-bfdc-db4cf0589461"
   },
   "source": [
    "The table above tells us that the classification performance really depends on the cancer subtype. A cool metric for multi-label classification is [Cohen's Kappa](https://scikit-learn.org/stable/modules/generated/sklearn.metrics.cohen_kappa_score.html). Basically, it compares the probability obtained from the model to assign a label with the probability of guessing the label at random. It has a range of values between -1 and 1. A zero value means the classification is completely random, a negative value means that the classification is performing worse than assigning classes at random, and a positive value indicates non-random assignment."
   ]
  },
  {
   "cell_type": "code",
   "execution_count": null,
   "id": "5faeb46a-133a-47fc-811a-9400b4bf5a00",
   "metadata": {
    "id": "5faeb46a-133a-47fc-811a-9400b4bf5a00"
   },
   "outputs": [],
   "source": [
    "from sklearn.metrics import cohen_kappa_score\n",
    "print(cohen_kappa_score(y_test, y_pred))"
   ]
  },
  {
   "cell_type": "markdown",
   "id": "ede246a7-cb03-4e44-88fc-861110619c6b",
   "metadata": {
    "id": "ede246a7-cb03-4e44-88fc-861110619c6b"
   },
   "source": [
    "### Weights for unbalanced data\n",
    "\n",
    "We can also perform a weighted random forest classification. This is useful when we have a class imbalance, i.e., when one class has more samples than the other. In this case, we can assign a higher weight to the minority class and a lower weight to the majority class. This way, the model will pay more attention to the minority class and less to the majority class."
   ]
  },
  {
   "cell_type": "code",
   "execution_count": null,
   "id": "77b3316d-aa14-48cb-a249-00ea82813835",
   "metadata": {
    "id": "77b3316d-aa14-48cb-a249-00ea82813835"
   },
   "outputs": [],
   "source": [
    "# We can calculate the weights for each class \"manually\":\n",
    "from sklearn.utils.class_weight import compute_class_weight\n",
    "class_weights = compute_class_weight('balanced', classes=np.unique(y), y=y)\n",
    "# And check these depend on the number of samples in each class (the higher the number of samples, the lower the weight):\n",
    "class_weights=pd.Series(class_weights,index=np.unique(y),name='class_weight')\n",
    "df_weights_and_counts = pd.concat([available_patients['PAM50 mRNA'].value_counts(),class_weights],axis=1)\n",
    "df_weights_and_counts.sort_values('count')"
   ]
  },
  {
   "cell_type": "code",
   "execution_count": null,
   "id": "3466aada-616e-489d-8db3-e3b920089f22",
   "metadata": {
    "id": "3466aada-616e-489d-8db3-e3b920089f22"
   },
   "outputs": [],
   "source": [
    "# However, the `RandomForestClassifier` has a built-in option to calculate the weights for each class.\n",
    "# We can set the class_weight parameter as 'balanced' to assign the weights. The options are:\n",
    "model_weighted = RandomForestClassifier(random_state=42,class_weight='balanced')\n",
    "model_weighted.fit(X_train, y_train)\n",
    "y_pred_weighted = model_weighted.predict(X_test)"
   ]
  },
  {
   "cell_type": "code",
   "execution_count": null,
   "id": "154259f9-885e-4c71-bffe-70baf86d10ac",
   "metadata": {
    "id": "154259f9-885e-4c71-bffe-70baf86d10ac"
   },
   "outputs": [],
   "source": [
    "# And we can check the performances\n",
    "print(\"Cohen's Kappa:\",cohen_kappa_score(y_test, y_pred_weighted))\n",
    "print(classification_report(y_test, y_pred_weighted))"
   ]
  },
  {
   "cell_type": "markdown",
   "id": "af8a8511-fae6-466a-83fb-dc400ce8bc12",
   "metadata": {
    "id": "af8a8511-fae6-466a-83fb-dc400ce8bc12"
   },
   "source": [
    "![who.png](data:image/png;base64,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)\n",
    "\n",
    "**Question**. Compare the classification performances of the models with and without weights. Sometimes the weighted case yields worse performances than the un-weighted case.\n",
    "\n",
    "Why do you think this could be the case and which would be the more realistic model?"
   ]
  },
  {
   "cell_type": "markdown",
   "id": "ce6d8f26-ea82-4676-92fd-292fda93c37b",
   "metadata": {
    "id": "ce6d8f26-ea82-4676-92fd-292fda93c37b"
   },
   "source": [
    "# Cross-Validation\n",
    "\n",
    "Up to this point, we’ve been using a portion of the dataset for training (`train`) and a separate portion for evaluation (`test`). This is commonly known as the **holdout method**.\n",
    "\n",
    "However, this approach can lead to problems when we want to compare multiple models or tune hyperparameters to select the best-performing one. For example, we might evaluate different classifiers (e.g., k-Nearest Neighbors, Decision Trees, Neural Networks) or the same model with different hyperparameters.\n",
    "\n",
    "If we continuously tune and evaluate models using the same test split, we risk selecting the model that performs best **only on that specific test set**, but not necessarily on new, unseen data. This is known as **overfitting to the test set**, because we are optimizing our model choices based on that fixed test partition.\n",
    "\n",
    "To address this issue, we use a more robust evaluation method called **cross-validation**.\n",
    "<div>\n",
    "<img src=\"attachment:grid_search_cross_validation.png\" width=\"600\">\n",
    "</div>\n",
    "\n",
    "In cross-validation, the available dataset is split into **K folds**, allowing us to create K different combinations of training and validation sets.\n",
    "\n",
    "\n",
    "\n",
    "---\n",
    "\n",
    "## Cross-Validation in Scikit-learn\n",
    "\n",
    "We will now explore how to perform cross-validation using Scikit-learn:  \n",
    "[Scikit-learn Cross-Validation documentation](https://scikit-learn.org/1.3/modules/cross_validation.html)\n",
    "\n",
    "Importantly, we’ll perform cross-validation on the `X_train` and `Y_train` sets (i.e., not using the test set during tuning), so we can still evaluate the final model fairly on `X_test` and `Y_test`.\n",
    "\n",
    "---\n",
    "\n",
    "## `cross_validate`\n",
    "\n",
    "One of the simplest ways to run cross-validation in Scikit-learn is by using the function [`cross_validate`](https://scikit-learn.org/stable/modules/generated/sklearn.model_selection.cross_validate.html).\n",
    "\n",
    "This function takes:\n",
    "- A model (e.g., a classifier instance)\n",
    "- The input features `X` and target variable `Y`\n",
    "- The Cross-Validation strategy `cv`, usually specified in the function [`StratifiedKFold`](https://scikit-learn.org/stable/modules/generated/sklearn.model_selection.StratifiedKFold.html).\n",
    "- A performance metric via the `scoring` parameter (e.g., `'accuracy'`), or several ones defined in a dictionary.\n",
    "- Since Cross-Validations are independent of each other, we can run them in parallel by specifying `n_jobs` larger than 1."
   ]
  },
  {
   "cell_type": "code",
   "execution_count": null,
   "id": "fe834a88-adde-4121-994b-dfdb5fa994af",
   "metadata": {
    "id": "fe834a88-adde-4121-994b-dfdb5fa994af"
   },
   "outputs": [],
   "source": [
    "from sklearn.model_selection import cross_validate, StratifiedKFold\n",
    "from sklearn.metrics import make_scorer\n",
    "\n",
    "# We define the number of folds we want to use for cross-validation:\n",
    "n_cvs = 5\n",
    "# Initialize the Random Forest Classifier\n",
    "clf_cv = RandomForestClassifier(random_state=42,class_weight='balanced')\n",
    "\n",
    "# Define custom cross-validation strategy\n",
    "skf = StratifiedKFold(n_splits=n_cvs, shuffle=True, random_state=42)\n",
    "\n",
    "# Define scoring metrics\n",
    "cohen_kappa_scorer = make_scorer(cohen_kappa_score)\n",
    "scoring = {'accuracy':'accuracy',\n",
    "           'precision_macro':'precision_macro',\n",
    "           'recall_macro':'recall_macro',\n",
    "           'f1_macro':'f1_macro',\n",
    "           'cohen_kappa':cohen_kappa_scorer}\n",
    "\n",
    "# Perform cross-validation\n",
    "results = cross_validate(clf_cv, X, y, cv=skf, scoring=scoring,n_jobs=2)\n",
    "\n",
    "# Print results\n",
    "for metric in scoring:\n",
    "    print(f\"Mean {metric}: {results[f'test_{metric}'].mean()}\")"
   ]
  },
  {
   "cell_type": "markdown",
   "id": "844ac5b9-9fa7-4a67-b234-8714f61deb87",
   "metadata": {
    "id": "844ac5b9-9fa7-4a67-b234-8714f61deb87"
   },
   "source": [
    "![hacker.png](data:image/png;base64,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)\n",
    "\n",
    "**Exercise**.\n",
    "\n",
    "a) Play with the number of Cross-Validation folds.\n",
    "Or, if you consider yourself a pro, make a table and/or a plot with the results of different folds (2, 5, 10, 20) and the corresponding metrics.\n",
    "Do performance metrics improve with more folds? Do more folds lead to *better* performances?\n",
    "\n",
    "b) What's the minimum number of folds you can use? And the maximum?\n",
    "\n",
    "c) You may get an UndefinedMetricWarning while playing with the number of folds? Why could this be?"
   ]
  },
  {
   "cell_type": "markdown",
   "id": "98cd49f3-2ca0-414a-8f63-3e8ca11e1186",
   "metadata": {
    "id": "98cd49f3-2ca0-414a-8f63-3e8ca11e1186"
   },
   "source": [
    "---\n",
    "We can even go full-overboard and use a cross-validation with a weighted random forest!!! :O"
   ]
  },
  {
   "cell_type": "code",
   "execution_count": null,
   "id": "a79175e6-077b-4016-a9e0-34e2213f1e4b",
   "metadata": {
    "id": "a79175e6-077b-4016-a9e0-34e2213f1e4b"
   },
   "outputs": [],
   "source": [
    "# Weighted Random Forest with cross-validation\n",
    "n_cvs = 5\n",
    "# Get the class weights\n",
    "from sklearn.utils.class_weight import compute_class_weight\n",
    "labels = np.unique(y)\n",
    "n_labels = labels.shape[0]\n",
    "class_weights = compute_class_weight('balanced', classes=labels, y=y)\n",
    "# Create a dictionary mapping class labels to weights\n",
    "class_weight_dict = {c: class_weights[i] for c,i in zip(labels,range(n_labels))}\n",
    "# Initialize the Random Forest Classifier with class weights\n",
    "clf_cvw = RandomForestClassifier(random_state=42, class_weight=class_weight_dict)\n",
    "# Define custom cross-validation strategy\n",
    "skf = StratifiedKFold(n_splits=n_cvs, shuffle=True, random_state=42)\n",
    "# Same metrics as before\n",
    "# Perform cross-validation\n",
    "results = cross_validate(clf_cvw, X, y, cv=skf, scoring=scoring,n_jobs=2)\n",
    "# Print results\n",
    "for metric in scoring:\n",
    "    print(f\"Mean {metric}: {results[f'test_{metric}'].mean()}\")"
   ]
  },
  {
   "cell_type": "markdown",
   "id": "17756966-b354-4519-8230-e55060625383",
   "metadata": {
    "id": "17756966-b354-4519-8230-e55060625383"
   },
   "source": [
    "![hacker.png](data:image/png;base64,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)\n",
    "\n",
    "**Exercise (for home or if there's time). A Cross-Validation to rule them all.**\n",
    "\n",
    "One topic we have not touched upon is the rather \"extreme\" case of the **Leave-One-Out Cross-Validation** (LOOCV). In this case, we use all samples but one to train the model and test it on the left-out sample. This is repeated for all samples, so we end up with as many models as samples. This is a very computationally expensive method, but it can be useful when we have very few samples. By using all samples but one, we can get a better estimate of the model's performance because the model has seen almost all samples. Check the documentation from sklearn on [LeaveOneOut](https://scikit-learn.org/stable/modules/generated/sklearn.model_selection.LeaveOneOut.html) and implement it for the Random Forest Classifier. You will need to use a for loop to iterate over each of the samples that have been left out.\n",
    "\n",
    "**Extra-pro exercise**. Use LOOCV with the weighted random forest classifier."
   ]
  },
  {
   "cell_type": "code",
   "execution_count": null,
   "id": "7144f818-736d-4585-ad6e-a19481819eaa",
   "metadata": {
    "id": "7144f818-736d-4585-ad6e-a19481819eaa"
   },
   "outputs": [],
   "source": []
  },
  {
   "cell_type": "markdown",
   "id": "8ed0a255-9f2e-4053-af40-b94f5b4c0963",
   "metadata": {
    "id": "8ed0a255-9f2e-4053-af40-b94f5b4c0963"
   },
   "source": [
    "## XGBoost\n",
    "\n",
    "`xgboost` is a very powerful package for classification using boosted trees. It works very similarly to `sklearn` overall and we can implement it by following the same process we have used:\n",
    "1. Initialize the model.\n",
    "2. Fit the model on training data.\n",
    "3. Make predictions on the testing data."
   ]
  },
  {
   "cell_type": "code",
   "execution_count": null,
   "id": "3e48d0fa-a051-48c6-b063-ade0f68d2169",
   "metadata": {
    "id": "3e48d0fa-a051-48c6-b063-ade0f68d2169"
   },
   "outputs": [],
   "source": [
    "# Import XGBoost's classifier function:\n",
    "from xgboost import XGBClassifier\n",
    "from sklearn.utils.class_weight import compute_sample_weight\n",
    "\n",
    "# 1. Initialize XGBClassifier\n",
    "xgb = XGBClassifier(\n",
    "    objective='multi:softmax',\n",
    "    num_class=4,\n",
    "    eval_metric='mlogloss',\n",
    "    random_state=42,\n",
    "    tree_method = \"hist\",\n",
    ")\n",
    "\n",
    "# We need to adapt the labels because XGBoost only takes integers:\n",
    "map_labels = {'Luminal A':0, 'Luminal B':1, 'Basal-like':2, 'HER2-enriched':3}\n",
    "y_train_xgb = y_train.map(map_labels)\n",
    "y_test_xgb = y_test.map(map_labels)\n",
    "# Compute sample weights\n",
    "weights_train = compute_sample_weight('balanced', y_train_xgb)\n",
    "xgb.fit(\n",
    "    X_train,\n",
    "    y_train_xgb,\n",
    "    sample_weight=weights_train\n",
    "    )\n",
    "xgb_pred = xgb.predict(X_test)\n",
    "print(\"Cohen's Kappa\",cohen_kappa_score(y_test_xgb, xgb_pred))\n",
    "print(\"XGBoost Classification Report:\")\n",
    "print(classification_report(y_test_xgb, xgb_pred))"
   ]
  },
  {
   "cell_type": "markdown",
   "id": "ac67613c-1db0-4369-b504-36aff310601e",
   "metadata": {
    "id": "ac67613c-1db0-4369-b504-36aff310601e"
   },
   "source": [
    "### XGboost on a GPU\n",
    "`xgboost` allows for the use of GPUs to accelerate training! By setting the `device` parameter to `\"cuda\"` we can train our model using a GPU."
   ]
  },
  {
   "cell_type": "code",
   "execution_count": null,
   "id": "3b70ed14-8b6d-47e3-ae19-456451b18316",
   "metadata": {
    "id": "3b70ed14-8b6d-47e3-ae19-456451b18316"
   },
   "outputs": [],
   "source": [
    "# Use xgboost with a gpu:\n",
    "# !pip install xgboost --upgrade --user\n",
    "from xgboost import XGBClassifier\n",
    "xgb_gpu = XGBClassifier(\n",
    "    objective='multi:softmax',\n",
    "    num_class=4,\n",
    "    eval_metric='mlogloss',\n",
    "    random_state=42,\n",
    "    tree_method = \"hist\",\n",
    "    device = \"cuda\",     # Use GPU for training\n",
    ")\n",
    "xgb_gpu.fit(\n",
    "    X_train,\n",
    "    y_train_xgb,\n",
    "    sample_weight=weights_train\n",
    "    )\n",
    "xgb_gpu_pred = xgb_gpu.predict(X_test)\n",
    "print(\"Cohen's Kappa\",cohen_kappa_score(y_test_xgb, xgb_gpu_pred))\n",
    "print(\"XGBoost GPU Classification Report:\")\n",
    "print(classification_report(y_test_xgb, xgb_gpu_pred))"
   ]
  },
  {
   "cell_type": "markdown",
   "id": "6cf02c2e-b500-44e7-838b-39e00cd04c41",
   "metadata": {
    "id": "6cf02c2e-b500-44e7-838b-39e00cd04c41"
   },
   "source": [
    "### Cross-Validation\n",
    "\n",
    "You can of course also use `xgboost` with Cross-Validation and, also, perform a weighted classification. Here we have to use `cross_val_predict` to implement the Cross-Validation and get the performance metrics in a slightly different way. This is because the loss used to monitor boosted trees training are not compatible with those used in random forest."
   ]
  },
  {
   "cell_type": "code",
   "execution_count": null,
   "id": "bde1a853-70a9-43aa-81ad-5635b69ff670",
   "metadata": {
    "id": "bde1a853-70a9-43aa-81ad-5635b69ff670"
   },
   "outputs": [],
   "source": [
    "from xgboost import XGBClassifier\n",
    "from sklearn.model_selection import StratifiedKFold, cross_val_predict\n",
    "from sklearn.metrics import accuracy_score, precision_score, recall_score, f1_score, cohen_kappa_score\n",
    "from sklearn.utils.class_weight import compute_sample_weight\n",
    "\n",
    "# Map labels to integers for XGBoost\n",
    "map_labels = {'Luminal A': 0, 'Luminal B': 1, 'Basal-like': 2, 'HER2-enriched': 3}\n",
    "y_mapped = y.map(map_labels)\n",
    "\n",
    "# Compute sample weights\n",
    "sample_weights = compute_sample_weight('balanced', y_mapped)\n",
    "\n",
    "# Initialize XGBoost classifier\n",
    "xgb = XGBClassifier(\n",
    "    objective='multi:softmax',  # Use 'multi:softprob' for probabilities\n",
    "    num_class=4,               # Number of classes\n",
    "    eval_metric='mlogloss',    # Evaluation metric\n",
    "    random_state=42\n",
    ")\n",
    "\n",
    "# Define cross-validation strategy\n",
    "skf = StratifiedKFold(n_splits=5, shuffle=True, random_state=42)\n",
    "\n",
    "# Perform cross-validation predictions, taking class weights into account:\n",
    "y_pred = cross_val_predict(xgb, X, y_mapped, cv=skf,params={'sample_weight': sample_weights})\n",
    "\n",
    "# Calculate metrics\n",
    "accuracy = accuracy_score(y_mapped, y_pred)\n",
    "precision_macro = precision_score(y_mapped, y_pred, average='macro')\n",
    "recall_macro = recall_score(y_mapped, y_pred, average='macro')\n",
    "f1_macro = f1_score(y_mapped, y_pred, average='macro')\n",
    "cohen_kappa = cohen_kappa_score(y_mapped, y_pred)\n",
    "\n",
    "# Print mean metrics\n",
    "print(f\"Mean Accuracy: {accuracy:.4f}\")\n",
    "print(f\"Mean Precision (Macro): {precision_macro:.4f}\")\n",
    "print(f\"Mean Recall (Macro): {recall_macro:.4f}\")\n",
    "print(f\"Mean F1 Score (Macro): {f1_macro:.4f}\")\n",
    "print(f\"Mean Cohen's Kappa: {cohen_kappa:.4f}\")"
   ]
  },
  {
   "cell_type": "markdown",
   "id": "e423535b-9de0-4102-b5e9-2188cc33426d",
   "metadata": {
    "id": "e423535b-9de0-4102-b5e9-2188cc33426d"
   },
   "source": [
    "![who.png](data:image/png;base64,iVBORw0KGgoAAAANSUhEUgAAAEAAAABACAYAAACqaXHeAAAABHNCSVQICAgIfAhkiAAAAAlwSFlzAAAB2AAAAdgB+lymcgAAABl0RVh0U29mdHdhcmUAd3d3Lmlua3NjYXBlLm9yZ5vuPBoAABgJSURBVHicrZt5eFXV1f8/+5xzk5ubeR4YwhQgzGGUSSDoCyIig6gUh9paR6ivw/trcapah7b2V+tsVWp9i1onEFAQKoggiiJhkhkCZCIhc2Lm3LPeP/a9NzfhkgH6fZ7zJPfsfb5n7bX3XnvttddRdA4uYITnbxNwHMjv5LOBYADpQLLndy6Q7eG+UCR7OA2gAjgCVF8EHwBXARtBNQHS5joMLANCu8A3EHjNI2BbvnLgDSCtC3zhwAPoxrblawbWA7O7wOdDIvCpj8wVJ6pfphjD5osxaLaoxIECyvuifCCzAz4DeBhUIyBYTlHdR2m+ofNEpY4TrGDbw9cIPAqoDjgzQeXoZ5QQ20+MwVdpzrRMUWHx/spYD8QFIgn0kh6gNoP0I7oXxsQlmP2ngjJaVZKKPOxvXsM+tB6QZuBG4F8B+Ezg78BNWE7U2FuxMhaCM7x1rcYa7H0f4/72DaGxRgHvADcBdgDOhaDeBbFIm4E54TaMuN6ta4iNnPoG99YXkJLjoKfYpbSZum0VEATsADLom4k58wkMpyvA+1tgH1qH+/PHBNvdBDLF87w/HgceJTwZNed5rKR+7fJJ+WncHy9BKvMBfo8eDf4YDepbDMNi6sNYI+agVDuDpbkR9+ePYh/ZCJAFTATqvcVmm+oPAYvoNgrjyj9jhoRooaqLsHetQPatRHJ3ogwTFdUDABWfhgqNUZK91QTGouexePiGg1pBUKjBvNdxJPUBpcDdhP3jauzd/0KOfQm1Jai4fmBYqJAoVO9J2Ac/FdyNE4GVQLGfvBuBRCb/P6wR81CGAQhy8hvsrHeRQ58hJSdQEckoZwQYJka/aUjBXqjMTwZqga+9DfZXXShK5aKsaBa9j5WQijIU9o9rcG/+g9BU30rNKu1yzBmPoYK1kpo/uB3J3QlwDfCxp9o7wM+YdB/myEUYDhMpzca9+j6kPKe16qNTMWb9ETOpPwD27vdxb/4jwLvAYk+tBcBHdBuNuvpFrJBgaKqj+dPfItnbWvNFpIhx8yplOixQCqnMp/mtBYK7sQpI8o4C/4k9A5Fo+mZiRKWgDIXk7MT9798LTQ0NwBPANOBm4Jgc+zfNW/6C3ahXLnP0DV6en3n+BoNaQHAEDJyNYRnQUI37k3vF0/hV6FVmFrCS8tPYn/4PzVUVIGAMnQvBYQLMQy+/AIsAGL4Iw2EB4P73U97GH/XIlgk8SHjCI9JkNzbVNiC2oCK7YaRlKiDS807aKmAiAD3GeYYVuL9+CWy3ArkZ+B2wBfhfYDxKFfLjStwlOYgIKvUSMCzQ0wBgNEgwKRmooBBQCnvfSqQiVwHvA/PRK816T8++R2Uusv9j7KZmsIIxeo5RQAgwxCej6YDkDAzTRCpyPUaYM8Bkj2xfAs+Qv+cpZbIMEdwNjQCoPpO8bR0XSAE9AYhKBUOBuxEpPABQAHxIa5Qi8h4IFO1Hmt1gOlCRKQDdde97+Xr6jJTk7/E+/wLn4mUACvdju936TnSqt6yvhzOJsCRwBIPy8gnAe8DZtoT28sv2cvhTEbetF8vWfOco4CcA6iu0sCXZIDbAPlqMmj8aADAdIN5in5kQH19duWc1tpHSE6CXtf3t83npWi29blD1NNWC3QSCd3kD2EMg1Ne8wtY/KuxmREQb4Daw/P5fC/ycL5/EfXoKKudb8bRodQDqEGABKIhNQ1km2G6k6gxoi90IbEepco6si7abG5G6YqQiD2ATgV1UbUTi0lCmp+G6Pui1uxnkM2pLF7D6bpqjU5GjGwVULcimAHyTgP7EpaGsIG3QK30uQF6A+gA8DbjRfWADf6P1KAE9H78EhF6TxVjynTjuzxLr2r95va51fnX/C6VKaPHIsoDUNnxRwB8Bm+AwUT9fJ477donj3p2CK9rrGUZ66iYB37TwqQpgbhs+A7jW997LnxDrv38Qx/1ZYgyd55XDZ7GtNg8/iJ6LQ9G+/im/shi0H38NoIgbgDnzcYxgBwD2bp8T+IHfMxsR6QWMQff6brSCvXgA1GMgoThc2veISdQG8/AGqC0H2ABUeuoXont2GBALshOo8uObiPY6+yMCGTdiDZmljXpdOfaRDYKeamvPpwDQw63tTi8C+BwYQ0gMatytWCMWgqn9KMnehn1sC8BptEHyx0/oEdMWTwPLMAxIn4M1+S5UaKwuqSvH3vqCdwr+oc1zNoHn/GSU2oiIk6RhmJcuxegxylfo/vLP0FirgFdpUWhABQTCX4ExdB+DceWzmGERvgLJ203zZw+Kx3LdjdeYtY8rgWU4o1BzXsDqPqTFftZX0rzyHuSnswpYDmzvBF84Sq1CcDLxXqwxi1vsCIJ724ve5fIU2r32oTMK6APqJkKiYcYzmKGeTUxjDfauFbh3LBfsZgX8BvisE3ygfQrIfAQzJd3TeME+vgV787NIdSHAV8DSTvLdjUgs6XMwMq73NV7KTuH+8lnk1LeAKgOZi952+9AZBcwBMUmfgxES7puf7i+eFhqqFah64NfAm50Utgcwhuhe0PMSlGkilfm4P7nXf1lbAdwO1HWScz4AQ6/THqfYuDc8jn3wU+8SfQDkOv23Ndpa+EDQVjumr8+hsbf+FRqqBVgOMoTON96Pr4/P47Sz3vM2fgcwE721ru0CZ08MB0T1BGUg+XuxD6wFkSLgPmA0ARoPnRsBuo4V7Jun0lANeijd2gUh2/A5W+Z9w0/esmVod7vrnKYDlIFSCmn08X0IPNfeg50ZAccAyPkGsW0k9wdorAW9+bgQaL7CfVBXDfVVSH6Wt+xCOY/TVAtn9iC2G/vEVxfL1wrxKFUMCM5IQflCYddfBOdHeEJjWE4vX9v9RlewCBCUoWXUTtJZzhMGuxAMAjaAqkbPpZsuki8MeBHt2JxBb47CLpLzZuCgR8YNaJn/o3Cg3eDo/yBnb8/1n0I0WkbHf5ATgIUoVU7LHuG1i3xJP2AXLXuEHzz3LhQO9L5FR5a1rNdcBF8rDEKpRgxLSJ0ohMZ5w9cPXyCfgd4UCfHpohIHeZWwi45D4efDI4AQGi8qdaJgmAKqAX1QctF4EBDGLxFz6Xdi3bbeawj3XSDfAEBIHCrqzu3iuH+XqOShXiX0v0DO/ShDuGGVWPf+IOal93j5lnX0YGf8AB31NIJAKZRpoTtKBqG3pgXAIXQgNHBgQsNEx+u0ATUt9GBQYAZ56zwM/BMdMwh0HuDFSHSscBAtR2JgOHTQwwr21ms/pt8BTODXSlEECFaw0H+mqOiebY+g/K/d6MOHtrhBKY6fU7/7WFE9LwnEcwy/PbsfpgF7z/v+yB6iBlyhZdX3CtH7ibbhfx/ON+cS0D06yVCKzF7RbM+rpK5Jb+VnD4nm9Rv7AHCmspGvjlXx3vel7Dz9E54XvwT8N7oHVgBXA0wfFcN10xNJTXRy93NHOZ5XA0D/1AheWjaanMJa3l13is3fF3rl+MSjiHr0UnkXQHRUDKndexIbE0eoK5TQkFC+2bmd03mnAbAsB0nxieQX5utQmD4HWECAuGEgBSQo+Eag7/jukbx5VTrpcaGU1jWxr6qChCTF4OSQgFr7ZG8Zd7xzUs5WNym0Y5MCTOzX3cXbDw1mwhBPYMfhpNEM4/sDZQCMHRJLkKPFKf16dzG3PraDI6eqAL5FxyeucTpDyBgygu4p+lDG4bAId4X79ihlFWXU1dcRGx2LM9hJeWU5W77ZQlFxEehRNamtEtoqwEBvQyddNziRt68eRJB3Xx3WBBGNARvuj5yyBma8cJgjRXojN25QJBv/kkFEqOVrPCGR7TBoVFQ3MnvJFrbv0YdCoa5Qpk6chitET2vLsogMjehw3bBtm03bNnHi9AnQI2EKfval7V7gLmDS+O6RrRsf5IbwjhsP0DMmmDV3DSDKpRv8p7v6tTTeMMAZ0c7TLYgKD2L181NITdan74MHDvE13lAG4a6wTi2ahmGQOSmTxPhE0CPgTv9yf+PgUIqVlqHC1y0aQVJYcEtJVCNYgSLjgREbahESZPD5gQqqa9xcm5moC4IjwOq8/+RyWqSlhvPuulPU1tXRJ1XbnZAQJ0GOoA6eboFhGCTGJ3Lw6EEBMtBuuA2tR8AVIiRf1T+OQfFa63XNNg9uOc6dHx+ntrG9Velc3DE5kfhwB2u2F1NS2cSz753mhsd2UVRa3/HDfrhycjdGDIimvKKMquoqTp7OZtuObVRWV3b8sB9iomJI7Z6q0HZphve+/wi4A7jkoUm9GZYYRnZ5HVPezmL14WJ25dRQWtPM7KGd3waYhuLwmTp25dSwYkMhq7aeZf+xClZuyuOKScnERgV3TOJBUWk9W34oIr8wj5z8HMoryzlx6gQpiSmEujqfoGKLzcmck6CXx43QegSkA4xKDudkRR2Xvp3FkdIaZk2bxKI5Mxk/62YdxOgCMnpq4c6UNjBySDrzZ04nO6+acYs38u66U53mGT04BoD6+nr69OzOLQuvpq6+jjUb17D/0H7vUtch4mPjvf/6XGR/TzAWICzIYu4HeymorudX18/ntacewvCErrDnkf/50/zzi73MHxFDWkL7CkmO1PN00ugMPn/7ZVwhTp5+eTmPPvcqi5dt563VJ/jzfSMZPqD9kZUUq5fdAX16se3DvxMfE83EUSO4+9Fn2L5zO8dOHmP86PEkJyS3y+MM9snrixP4jwAL4PWsfLLOVDNt/BhefdKv8cEuiE5lZdUYlq3KIf2xvVz7xlE2HKygsTlwDwSZ2kxnDB5AqCsEpRQP3buELWs/ZmBaP77YUUjGdeuYccdmVm7Kpba+OSCPwzI8CkglPkYr65eLr+X7L9YxbtRIzpacZfXnq1m1fhVHs4/S2Bh4xfK1xW8ne85e4K/f5eCwLF576iFM7zKoTHDqeMVtP7+JuoZGnn/tDT7KKuKjrDKiXBaZAyIY0SOUISkhJEcEERliUlTdNutNQUg4k8ePY9/Xm1i+4j2eee5FNn6bz8Zvz+ByWkwdk8DI9BiG948mKS6EqHAHeUUB4qPOcIYNieabDWv44JO1PPGnv3Do6DGKioswDZOkxCQSYhOIi4nD5XIR7AjGlvMb8qvQpyUCyPyZ00VO7m65Co6JlBW0uurPnJJ/vvaizL1ypoQ4nYF9c881KK2PHN60SiT/8Dk8zcW5svqdf8g1c2ZLZER4uzzdkhLku0/+KZJ74BweuzRfNn3ygdx0/UKJj41tlwedpjfT0yX8l1JqPWAMG5hGt6QE/vCbXzN0gF+6XlgsmBZr1m8krW9v0vvrsn9v2UpMVBTpA9LI2ruffQcOcvDIMYpLSqmsqsLtdnMs+ySnc/OIiYpkz5fr6ZHaiy+3bSc01MXYkRkAfLcri7q6eiZdMpYf9uxl34FDHDxylKKzxVRWVdPU1ERufgFHjp/AFeJk9xdr6Z8+mF179lFeWcllUyYDcPDIUY5nn2L2jMvY++NB9uw/wIHDRzhTVERlVTUNDQ0Ul5ay78AhRMRGe4V8C8i7zz/Tute916ndImUFUpZ9SAzDkMunXipSViDukjxxhYTIsMHp5/SG/+UuyZM7f3GzAPLgvUtFygokKjJC+vft46vTv28fiYqMaJdHygrkqYd/K4DcsHCeSFmBDBucLq6QEHGX5ImUFcjlUy8V0zSlLPtQuzwr/vaSdyR8ZQBDY6IiWTRnZuDJobSrUFdfj23b1NTq+Sgi1NbVUVPb/uGNYRgs+dUtAOz58SAANbV1Ph79u7ZDHoClt/0CgN37D/h4auvqfMtgTW0tbrebuvr2na3FC+cTEx0FkGEBpyurqwedzM2nd49uAapr8oS4WMaOzGBG5lQATNNk5vRp9OvTq0PBs/bqhBDPS5l+6SS6p7QsWVdclklxaWmHPLv3/ah5ojTPzOnTOHHyFKbnlHrqpAm43TYJcbHt8mSfOk1FZRVAmQL+B/hTardkbv/ZNaQkxrPgiumEuTzBFAWEJwRML2kPOXn5bNi8hWMnTvLK8n9QV1/P15+tYvy4MV3iKS4pZc3nG8nNL+DlN9+ipLSM9998mWvnz+sSz081NXy85jMKCot49e9vS25+gbftmLQkNwogv73zltZ2oPh0h/Oz7TVx3BgfnzM4WF598iGRouwu8yxaMNfHY5qGPLL0VyJnzl2VOrp+c8/d/quADbwOmP7dOgyYpJT6a3xMtCN766eEujyBj2DXubm97WDXnn2MztQ25Xf33M4tC68mtVuyzu5yRXWaJ/9MIX1GjKOxqYm7bryWJTddT3q/3jqeGNb+MPdHTW0tvYePo6S0tEn0Mf5WdBS6lSe4D3hFRJafLS3jyZfeaClpqAPxz2w5P2zb5t6Hfuf7nZ2TpxsP0NQA7sDeXiA88MjjNDZpZ+rgsWwG9PGkF7mbobkzeRgav3/2OYpLSxF9iv0cnsZD4GDhHsMwbt2+a2/wyCEDGeA1crZbR3M6wG8ff4r3Pv4EYK9Syr330NGIlMR4Rg0d1CK8w9mhTXn5zbf40wuvoJTKA06fyitIdNs2mRM8eZjuJgjqmGf1ug3cs+wR0I7e9bTJUAukgGoR2Q0s+nj9JiO1WzLD0/trBQBYgQMRTU1NPPDoE/z/l/+G0iczM4ANSqnFn335tRke6uKSjGEosdtVpojw7Iuvcv/Dj6OUahCROcAKpdQNW7/PctbU1pE5fiyGQiszyMn5QkP/+68PufGOpWLbti0ic2k/bH8O1uIxGnMumyI/rHlXG8T8QyJl+a0cndXv/EOGDU73NzL+BxKvee9PGTdKvnp/udjZWdqd9Tgw3mvz6g9l8vhx/jyv+vE86L2fMXigrF3+vDQf3yWS86NISW4rnp2b1stVMy/351nLeXC+8dNXKY5EhTnM2EgHx/O009K/dyrjRgwhKSGeZjHIOVPE1zu+p6hYBy7HDI5l54FS0B8nDERnoJ9CWZFE9YSyEwD0TEliwqjh9EhJwlYWBcUlfL1jJ7n5BVqo+P5IaTbY7kqQXkAN+vCl78jkcLLO6FGcFB/HxNHD6dW9G4YjiMKScnbsyuLYiZMA9It3UlLTLBW1zW6PPCfO39+t8RYgT93WVxo2Z8or9w+UUQMiAm4sLNOQWZNTZO2LU0X2LpZZk1O8Zb8AHgOEQXOF27YJmY8KScP0OX5bLmWI6p4h5qynxHHfD2IMW+Ate8zDJVf0ixX7kemy6tphMrNvrFiGCijTqJ6h8sqi3lL/4jh58uoe3vtvBWpooBHQTykOx0Q4zJMfTCLc1WImShpD2Zf9E8XlDTgsg6RYJyMGRuNytuyqv/+xlHGLPwc4hVIxKCuCRe9DWKKvjmk0ocqOI7Xa+1OuWFTCAAhqCW9JVSHNy+eA7a4CKQN67fjlGMamtESVa5317KmooLCyiSa3EB/uYHh3F7GhLfJU17vp/fBuKatpdqMjQb5MLAh8NviICOYD16e2ajxWEHERYWTGtZ/HMHZILLMmp7BuW0EvRCB9dqvGK0NhuCLANbLdqLaKSMIYOhd770cRQMSVaXGtGo8huKJtJsS075+EO03uvyxZPbQ610KfPf7cv7ztuUCaUiyOi3SwZEGP1iVBnU/gePzOYS2r0/BFrcqMoM7mZoIx7pdgOgTgvkt6ti4Ma/J8uNYxlk5LIjbMEvSXJ60+y2urAN37i1IJC2nd+12J548eHMvsSz0bq3yfz6F73+q8AlR4IsbQeQpg88kyP6kFXJ3/xjIs2OSBy1MUesQ/4l/mr4AYpbg+NmDvd+XbSI1Hbx+q/zm4quVlQV1PKjHG3oIyLF7PKsDtjf6GNncuv80PS6YkERNqCXAdfmk+/jRpIjgmDIki1NnGPzK7LvjowbFEhQdB+UnfvZb83c5DhSdCbG+KaxspqfX0elDn3HJ/hAYbTOgTrtCfBvrScfwlygVk15EqytsGM+2uv3DXwTIqqhshLMl3T9xdO10CkOoiKD9NqMMkNsTTEc1dz6Qpr21md24N6CUx13u/LdOHwDW9k0O4ckJcy0gwzFaZoh3hbGkDKzfnUlndCLFp0MPzjZJSGJbZikfF9MIYPEf/qK/S3xI2eyI69dXIiS1ITSl9okNYmJ7QIrWrudNGsKbR5rP95ZwsbfC28drz1Y3CzwW+yKsZb9ZWe5dh1TuWbr3Tcf+u24zRN78aoI6tWr5iudhrDS1fn/h0GQj90U5D549gW6MWnfrmRMcZ2ttG/oh2c6Elj8gbNKhHb9Pr0QnPF5rz0+h5xzmps/8HjYn1EuVdT4YAAAAASUVORK5CYII=)\n",
    "\n",
    "**Question**. We mentioned boosted trees are very powerful, but the performances of running `xgboost` with Cross-Validation are rather poor, especially compared to the case of Random Forest. Why could this be? Think in terms of the algorithms we saw in class. Recall that CV means that each trained model, which are independent of each other, see very few available samples."
   ]
  }
 ],
 "metadata": {
  "colab": {
   "provenance": [],
   "toc_visible": true
  },
  "kernelspec": {
   "display_name": "Python 3 (ipykernel)",
   "language": "python",
   "name": "python3"
  },
  "language_info": {
   "codemirror_mode": {
    "name": "ipython",
    "version": 3
   },
   "file_extension": ".py",
   "mimetype": "text/x-python",
   "name": "python",
   "nbconvert_exporter": "python",
   "pygments_lexer": "ipython3",
   "version": "3.10.12"
  }
 },
 "nbformat": 4,
 "nbformat_minor": 5
}
